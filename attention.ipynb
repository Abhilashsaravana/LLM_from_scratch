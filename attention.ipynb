{
 "cells": [
  {
   "cell_type": "code",
   "execution_count": 2,
   "id": "ba627e43",
   "metadata": {},
   "outputs": [],
   "source": [
    "from gensim.models import Word2Vec\n",
    "import torch\n"
   ]
  },
  {
   "cell_type": "code",
   "execution_count": null,
   "id": "15b57bfb",
   "metadata": {},
   "outputs": [],
   "source": []
  },
  {
   "cell_type": "markdown",
   "id": "aa4da640",
   "metadata": {},
   "source": []
  },
  {
   "cell_type": "code",
   "execution_count": 3,
   "id": "442b74b4",
   "metadata": {},
   "outputs": [],
   "source": [
    "words=[\"the\",\"sun\",\"rises\",\"in\",\"the\",\"east\"]\n",
    "model=Word2Vec([words],min_count=1,vector_size=3)\n"
   ]
  },
  {
   "cell_type": "code",
   "execution_count": 4,
   "id": "d6c7e5bf",
   "metadata": {},
   "outputs": [
    {
     "name": "stdout",
     "output_type": "stream",
     "text": [
      "[-0.15122044  0.21846838 -0.16200535]\n"
     ]
    }
   ],
   "source": [
    "print(model.wv['sun'])  # Example to get the vector for the word 'sun'"
   ]
  },
  {
   "cell_type": "code",
   "execution_count": 5,
   "id": "9db98943",
   "metadata": {},
   "outputs": [
    {
     "name": "stdout",
     "output_type": "stream",
     "text": [
      "tensor([[-0.0179,  0.0079,  0.1701],\n",
      "        [-0.1512,  0.2185, -0.1620],\n",
      "        [-0.1254,  0.2460, -0.0511],\n",
      "        [ 0.2153,  0.2991, -0.1672],\n",
      "        [-0.0179,  0.0079,  0.1701],\n",
      "        [ 0.3003, -0.3101, -0.2372]])\n"
     ]
    }
   ],
   "source": [
    "inputs = torch.tensor(model.wv[words])  # Convert words to their corresponding vectors\n",
    "print(inputs)"
   ]
  },
  {
   "cell_type": "code",
   "execution_count": 6,
   "id": "c41aa979",
   "metadata": {},
   "outputs": [
    {
     "name": "stdout",
     "output_type": "stream",
     "text": [
      "torch.Size([6, 3])\n",
      "tensor([-0.0231,  0.0968,  0.0810,  0.0599, -0.0231, -0.0747])\n"
     ]
    }
   ],
   "source": [
    "query = inputs[1]  # 'sun'\n",
    "print(inputs.shape)\n",
    "scores = torch.empty(len(words))\n",
    "for i,x in enumerate(inputs):\n",
    "    scores[i] = torch.dot(query, x)\n",
    "print(scores)"
   ]
  },
  {
   "cell_type": "code",
   "execution_count": 7,
   "id": "fba98b24",
   "metadata": {},
   "outputs": [
    {
     "name": "stdout",
     "output_type": "stream",
     "text": [
      "tensor([-0.1982,  0.8297,  0.6940,  0.5130, -0.1982, -0.6403])\n",
      "tensor([0.1594, 0.1797, 0.1769, 0.1732, 0.1594, 0.1514])\n"
     ]
    }
   ],
   "source": [
    "weights = scores/torch.sum(scores)\n",
    "print(weights)\n",
    "\n",
    "weights_softmax = torch.softmax(scores, dim=0)\n",
    "print(weights_softmax)"
   ]
  },
  {
   "cell_type": "code",
   "execution_count": 8,
   "id": "4ab17524",
   "metadata": {},
   "outputs": [
    {
     "name": "stdout",
     "output_type": "stream",
     "text": [
      "tensor([ 0.0277,  0.0902, -0.0488])\n"
     ]
    }
   ],
   "source": [
    "context_vec2 = torch.zeros(3)\n",
    "for i, w in enumerate(weights_softmax):\n",
    "    context_vec2 += w * inputs[i]\n",
    "print(context_vec2)"
   ]
  },
  {
   "cell_type": "code",
   "execution_count": 9,
   "id": "d36d120f",
   "metadata": {},
   "outputs": [
    {
     "name": "stdout",
     "output_type": "stream",
     "text": [
      "tensor([[ 0.0293, -0.0231, -0.0045, -0.0299,  0.0293, -0.0482],\n",
      "        [-0.0231,  0.0968,  0.0810,  0.0599, -0.0231, -0.0747],\n",
      "        [-0.0045,  0.0810,  0.0789,  0.0551, -0.0045, -0.1018],\n",
      "        [-0.0299,  0.0599,  0.0551,  0.1638, -0.0299,  0.0116],\n",
      "        [ 0.0293, -0.0231, -0.0045, -0.0299,  0.0293, -0.0482],\n",
      "        [-0.0482, -0.0747, -0.1018,  0.0116, -0.0482,  0.2426]])\n"
     ]
    }
   ],
   "source": [
    "attention_scores = torch.matmul(inputs, inputs.T)\n",
    "print(attention_scores)"
   ]
  },
  {
   "cell_type": "code",
   "execution_count": 10,
   "id": "ac5ca0cd",
   "metadata": {},
   "outputs": [
    {
     "name": "stdout",
     "output_type": "stream",
     "text": [
      "tensor([[0.1729, 0.1641, 0.1672, 0.1630, 0.1729, 0.1600],\n",
      "        [0.1594, 0.1797, 0.1769, 0.1732, 0.1594, 0.1514],\n",
      "        [0.1627, 0.1773, 0.1769, 0.1727, 0.1627, 0.1476],\n",
      "        [0.1553, 0.1699, 0.1691, 0.1885, 0.1553, 0.1619],\n",
      "        [0.1729, 0.1641, 0.1672, 0.1630, 0.1729, 0.1600],\n",
      "        [0.1582, 0.1541, 0.1499, 0.1680, 0.1582, 0.2116]])\n"
     ]
    }
   ],
   "source": [
    "attention_weights = torch.softmax(attention_scores, dim=-1)\n",
    "print(attention_weights)"
   ]
  },
  {
   "cell_type": "code",
   "execution_count": 11,
   "id": "0066da67",
   "metadata": {},
   "outputs": [
    {
     "name": "stdout",
     "output_type": "stream",
     "text": [
      "Sums to 1: tensor([1.0000, 1.0000, 1.0000, 1.0000, 1.0000, 1.0000])\n"
     ]
    }
   ],
   "source": [
    "print(\"Sums to 1:\", attention_weights.sum(dim=-1))"
   ]
  },
  {
   "cell_type": "code",
   "execution_count": 12,
   "id": "49ccd8d6",
   "metadata": {},
   "outputs": [
    {
     "name": "stdout",
     "output_type": "stream",
     "text": [
      "tensor([[ 0.0312,  0.0788, -0.0415],\n",
      "        [ 0.0277,  0.0902, -0.0488],\n",
      "        [ 0.0267,  0.0907, -0.0463],\n",
      "        [ 0.0367,  0.0873, -0.0532],\n",
      "        [ 0.0312,  0.0788, -0.0415],\n",
      "        [ 0.0519,  0.0577, -0.0571]])\n"
     ]
    }
   ],
   "source": [
    "contexts_vecs = torch.matmul(attention_weights, inputs)\n",
    "print(contexts_vecs)"
   ]
  },
  {
   "cell_type": "markdown",
   "id": "125b83ca",
   "metadata": {},
   "source": [
    "Simple self attention mechanism with trainable weights\n"
   ]
  },
  {
   "cell_type": "code",
   "execution_count": 13,
   "id": "7f957543",
   "metadata": {},
   "outputs": [
    {
     "name": "stdout",
     "output_type": "stream",
     "text": [
      "tensor([[-0.0179,  0.0079,  0.1701],\n",
      "        [-0.1512,  0.2185, -0.1620],\n",
      "        [-0.1254,  0.2460, -0.0511],\n",
      "        [ 0.2153,  0.2991, -0.1672],\n",
      "        [-0.0179,  0.0079,  0.1701],\n",
      "        [ 0.3003, -0.3101, -0.2372]])\n",
      "Parameter containing:\n",
      "tensor([[-0.4112,  3.2311],\n",
      "        [ 0.4905,  0.2391],\n",
      "        [-0.1452, -0.0673]], requires_grad=True) Parameter containing:\n",
      "tensor([[ 0.8338, -1.4040],\n",
      "        [-0.2339,  0.0907],\n",
      "        [-2.3393,  0.0218]], requires_grad=True) Parameter containing:\n",
      "tensor([[0.6598, 1.4077],\n",
      "        [0.9107, 0.2272],\n",
      "        [0.4776, 0.7335]], requires_grad=True)\n"
     ]
    }
   ],
   "source": [
    "print(inputs)\n",
    "w_query=torch.nn.Parameter(torch.randn(inputs.shape[1],2),requires_grad=True)  \n",
    "w_key=torch.nn.Parameter(torch.randn(inputs.shape[1],2),requires_grad=True)  \n",
    "w_value=torch.nn.Parameter(torch.randn(inputs.shape[1],2),requires_grad=True)\n",
    "print(w_key,w_value,w_query)"
   ]
  },
  {
   "cell_type": "code",
   "execution_count": 14,
   "id": "46331260",
   "metadata": {},
   "outputs": [
    {
     "name": "stdout",
     "output_type": "stream",
     "text": [
      "tensor([[ 0.0766,  0.1014],\n",
      "        [ 0.0218, -0.2821],\n",
      "        [ 0.1169, -0.1582],\n",
      "        [ 0.3346,  0.2484],\n",
      "        [ 0.0766,  0.1014],\n",
      "        [-0.1975,  0.1783]], grad_fn=<MmBackward0>) tensor([[-0.0135, -0.0673],\n",
      "        [ 0.1929, -0.4255],\n",
      "        [ 0.1797, -0.3431],\n",
      "        [ 0.0825,  0.7784],\n",
      "        [-0.0135, -0.0673],\n",
      "        [-0.2411,  0.9122]], grad_fn=<MmBackward0>) tensor([[-0.4147,  0.0295],\n",
      "        [ 0.2018,  0.2286],\n",
      "        [-0.0426,  0.1973],\n",
      "        [ 0.5007, -0.2788],\n",
      "        [-0.4147,  0.0295],\n",
      "        [ 0.8779, -0.4549]], grad_fn=<MmBackward0>)\n"
     ]
    }
   ],
   "source": [
    "query2 = torch.matmul(inputs, w_query)\n",
    "keys2 = torch.matmul(inputs, w_key)\n",
    "values2 = torch.matmul(inputs, w_value)\n",
    "print(query2,keys2,values2)"
   ]
  },
  {
   "cell_type": "code",
   "execution_count": 15,
   "id": "6c944992",
   "metadata": {},
   "outputs": [
    {
     "name": "stdout",
     "output_type": "stream",
     "text": [
      "tensor([[-0.0079, -0.0284, -0.0210,  0.0853, -0.0079,  0.0740],\n",
      "        [ 0.0187,  0.1242,  0.1007, -0.2178,  0.0187, -0.2625],\n",
      "        [ 0.0091,  0.0898,  0.0753, -0.1135,  0.0091, -0.1725],\n",
      "        [-0.0212, -0.0412, -0.0251,  0.2210, -0.0212,  0.1459],\n",
      "        [-0.0079, -0.0284, -0.0210,  0.0853, -0.0079,  0.0740],\n",
      "        [-0.0093, -0.1139, -0.0967,  0.1225, -0.0093,  0.2102]],\n",
      "       grad_fn=<MmBackward0>)\n",
      "tensor([[0.1638, 0.1615, 0.1623, 0.1750, 0.1638, 0.1736],\n",
      "        [0.1723, 0.1857, 0.1826, 0.1458, 0.1723, 0.1413],\n",
      "        [0.1694, 0.1794, 0.1775, 0.1553, 0.1694, 0.1490],\n",
      "        [0.1588, 0.1566, 0.1584, 0.1885, 0.1588, 0.1788],\n",
      "        [0.1638, 0.1615, 0.1623, 0.1750, 0.1638, 0.1736],\n",
      "        [0.1630, 0.1514, 0.1533, 0.1789, 0.1630, 0.1904]],\n",
      "       grad_fn=<SoftmaxBackward0>)\n"
     ]
    }
   ],
   "source": [
    "attention_scores2 = torch.matmul(query2, keys2.T)\n",
    "print(attention_scores2)\n",
    "attention_scores2norm = torch.softmax(attention_scores2/(2**0.5), dim=-1)\n",
    "print(attention_scores2norm)"
   ]
  },
  {
   "cell_type": "code",
   "execution_count": 16,
   "id": "6bdd303a",
   "metadata": {},
   "outputs": [],
   "source": [
    "class selfattention(torch.nn.Module):\n",
    "    def __init__(self, input_dim, out_dim):\n",
    "        super().__init__()\n",
    "        self.w_query = torch.nn.Parameter(torch.randn(input_dim, out_dim), requires_grad=True)\n",
    "        self.w_key = torch.nn.Parameter(torch.randn(input_dim, out_dim), requires_grad=True)\n",
    "        self.w_value = torch.nn.Parameter(torch.randn(input_dim, out_dim), requires_grad=True)\n",
    "\n",
    "    def forward(self, x):\n",
    "        queries = torch.matmul(x, self.w_query)\n",
    "        keys = torch.matmul(x, self.w_key)\n",
    "        values = torch.matmul(x, self.w_value)\n",
    "\n",
    "        attention_scores = torch.matmul(queries, keys.T) \n",
    "        attention_weights = torch.softmax(attention_scores/(keys.shape[1]**0.5), dim=-1)\n",
    "\n",
    "        output = torch.matmul(attention_weights, values)\n",
    "        return output"
   ]
  },
  {
   "cell_type": "code",
   "execution_count": 17,
   "id": "6a5bb8a5",
   "metadata": {},
   "outputs": [
    {
     "name": "stdout",
     "output_type": "stream",
     "text": [
      "tensor([[0.0107, 0.0238],\n",
      "        [0.0165, 0.0208],\n",
      "        [0.0148, 0.0208],\n",
      "        [0.0217, 0.0250],\n",
      "        [0.0107, 0.0238],\n",
      "        [0.0205, 0.0308]], grad_fn=<MmBackward0>)\n"
     ]
    }
   ],
   "source": [
    "test_attention = selfattention(input_dim=3, out_dim=2)\n",
    "output = test_attention(inputs)\n",
    "print(output)"
   ]
  },
  {
   "cell_type": "code",
   "execution_count": 18,
   "id": "f3e4d69d",
   "metadata": {},
   "outputs": [],
   "source": [
    "class selfattentionv2(torch.nn.Module):\n",
    "    def __init__(self, input_dim, out_dim,qkv_bias=False):\n",
    "        super().__init__()\n",
    "        self.w_query = torch.nn.Linear(input_dim, out_dim,bias=qkv_bias)\n",
    "        self.w_key = torch.nn.Linear(input_dim, out_dim,bias=qkv_bias)\n",
    "        self.w_value = torch.nn.Linear(input_dim, out_dim,bias=qkv_bias)\n",
    "\n",
    "    def forward(self, x):\n",
    "        queries = self.w_query(x)\n",
    "        keys = self.w_key(x)\n",
    "        values = self.w_value(x)\n",
    "\n",
    "        attention_scores = torch.matmul(queries, keys.T) \n",
    "        attention_weights = torch.softmax(attention_scores/(keys.shape[1]**0.5), dim=-1)\n",
    "\n",
    "        output = torch.matmul(attention_weights, values)\n",
    "        return output,attention_weights"
   ]
  },
  {
   "cell_type": "code",
   "execution_count": 19,
   "id": "ba162dd4",
   "metadata": {},
   "outputs": [
    {
     "name": "stdout",
     "output_type": "stream",
     "text": [
      "tensor([[0.1669, 0.1673, 0.1676, 0.1668, 0.1669, 0.1644],\n",
      "        [0.1654, 0.1665, 0.1651, 0.1650, 0.1654, 0.1725],\n",
      "        [0.1656, 0.1672, 0.1659, 0.1650, 0.1656, 0.1707],\n",
      "        [0.1656, 0.1681, 0.1667, 0.1648, 0.1656, 0.1691],\n",
      "        [0.1669, 0.1673, 0.1676, 0.1668, 0.1669, 0.1644],\n",
      "        [0.1676, 0.1652, 0.1665, 0.1685, 0.1676, 0.1647]],\n",
      "       grad_fn=<SoftmaxBackward0>)\n"
     ]
    }
   ],
   "source": [
    "test2 = selfattentionv2(input_dim=3, out_dim=2)\n",
    "output2,weights = test2.forward(inputs)\n",
    "print(weights)"
   ]
  },
  {
   "cell_type": "markdown",
   "id": "04acdb67",
   "metadata": {},
   "source": [
    "<b>Causal Attention Mechanism"
   ]
  },
  {
   "cell_type": "code",
   "execution_count": 20,
   "id": "c57ace1d",
   "metadata": {},
   "outputs": [
    {
     "name": "stdout",
     "output_type": "stream",
     "text": [
      "tensor([[1., 0., 0., 0., 0., 0.],\n",
      "        [1., 1., 0., 0., 0., 0.],\n",
      "        [1., 1., 1., 0., 0., 0.],\n",
      "        [1., 1., 1., 1., 0., 0.],\n",
      "        [1., 1., 1., 1., 1., 0.],\n",
      "        [1., 1., 1., 1., 1., 1.]])\n"
     ]
    }
   ],
   "source": [
    "mask = torch.tril(torch.ones(weights.shape))\n",
    "print(mask)"
   ]
  },
  {
   "cell_type": "code",
   "execution_count": 21,
   "id": "6c412bd7",
   "metadata": {},
   "outputs": [
    {
     "name": "stdout",
     "output_type": "stream",
     "text": [
      "tensor([[0.1669, 0.0000, 0.0000, 0.0000, 0.0000, 0.0000],\n",
      "        [0.1654, 0.1665, 0.0000, 0.0000, 0.0000, 0.0000],\n",
      "        [0.1656, 0.1672, 0.1659, 0.0000, 0.0000, 0.0000],\n",
      "        [0.1656, 0.1681, 0.1667, 0.1648, 0.0000, 0.0000],\n",
      "        [0.1669, 0.1673, 0.1676, 0.1668, 0.1669, 0.0000],\n",
      "        [0.1676, 0.1652, 0.1665, 0.1685, 0.1676, 0.1647]],\n",
      "       grad_fn=<MulBackward0>)\n"
     ]
    }
   ],
   "source": [
    "masked_weights = weights * mask\n",
    "print(masked_weights)"
   ]
  },
  {
   "cell_type": "code",
   "execution_count": 22,
   "id": "d05f8f4f",
   "metadata": {},
   "outputs": [
    {
     "name": "stdout",
     "output_type": "stream",
     "text": [
      "tensor([[1.0000, 0.0000, 0.0000, 0.0000, 0.0000, 0.0000],\n",
      "        [0.4983, 0.5017, 0.0000, 0.0000, 0.0000, 0.0000],\n",
      "        [0.3320, 0.3353, 0.3326, 0.0000, 0.0000, 0.0000],\n",
      "        [0.2490, 0.2527, 0.2506, 0.2477, 0.0000, 0.0000],\n",
      "        [0.1998, 0.2003, 0.2006, 0.1996, 0.1998, 0.0000],\n",
      "        [0.1676, 0.1652, 0.1665, 0.1685, 0.1676, 0.1647]],\n",
      "       grad_fn=<DivBackward0>)\n"
     ]
    }
   ],
   "source": [
    "row_sums = masked_weights.sum(dim=-1, keepdim=True)\n",
    "normalized_masked_weights = masked_weights / row_sums \n",
    "print(normalized_masked_weights)"
   ]
  },
  {
   "cell_type": "code",
   "execution_count": 23,
   "id": "53314e86",
   "metadata": {},
   "outputs": [
    {
     "name": "stdout",
     "output_type": "stream",
     "text": [
      "tensor([[0.1669,   -inf,   -inf,   -inf,   -inf,   -inf],\n",
      "        [0.1654, 0.1665,   -inf,   -inf,   -inf,   -inf],\n",
      "        [0.1656, 0.1672, 0.1659,   -inf,   -inf,   -inf],\n",
      "        [0.1656, 0.1681, 0.1667, 0.1648,   -inf,   -inf],\n",
      "        [0.1669, 0.1673, 0.1676, 0.1668, 0.1669,   -inf],\n",
      "        [0.1676, 0.1652, 0.1665, 0.1685, 0.1676, 0.1647]],\n",
      "       grad_fn=<MaskedFillBackward0>)\n"
     ]
    }
   ],
   "source": [
    "mask = torch.triu(torch.ones(weights.shape), diagonal=1)\n",
    "masked=weights.masked_fill(mask.bool(), float('-inf'))\n",
    "print(masked)"
   ]
  },
  {
   "cell_type": "code",
   "execution_count": 24,
   "id": "d1dbba17",
   "metadata": {},
   "outputs": [
    {
     "name": "stdout",
     "output_type": "stream",
     "text": [
      "tensor([[1.0000, 0.0000, 0.0000, 0.0000, 0.0000, 0.0000],\n",
      "        [0.4998, 0.5002, 0.0000, 0.0000, 0.0000, 0.0000],\n",
      "        [0.3332, 0.3336, 0.3333, 0.0000, 0.0000, 0.0000],\n",
      "        [0.2499, 0.2503, 0.2501, 0.2497, 0.0000, 0.0000],\n",
      "        [0.2000, 0.2000, 0.2001, 0.2000, 0.2000, 0.0000],\n",
      "        [0.1668, 0.1665, 0.1666, 0.1669, 0.1668, 0.1664]],\n",
      "       grad_fn=<SoftmaxBackward0>)\n"
     ]
    }
   ],
   "source": [
    "weights = torch.softmax(masked/keys2.shape[-1]**0.5, dim=1)\n",
    "print(weights)"
   ]
  },
  {
   "cell_type": "markdown",
   "id": "4a8d5889",
   "metadata": {},
   "source": [
    "<b>Attention weights with dropout"
   ]
  },
  {
   "cell_type": "code",
   "execution_count": 25,
   "id": "afb4aa93",
   "metadata": {},
   "outputs": [
    {
     "name": "stdout",
     "output_type": "stream",
     "text": [
      "tensor([[2.0000, 0.0000, 0.0000, 0.0000, 0.0000, 0.0000],\n",
      "        [0.0000, 1.0004, 0.0000, 0.0000, 0.0000, 0.0000],\n",
      "        [0.0000, 0.0000, 0.6665, 0.0000, 0.0000, 0.0000],\n",
      "        [0.4998, 0.5006, 0.0000, 0.0000, 0.0000, 0.0000],\n",
      "        [0.3999, 0.0000, 0.0000, 0.0000, 0.0000, 0.0000],\n",
      "        [0.0000, 0.3330, 0.0000, 0.0000, 0.0000, 0.0000]],\n",
      "       grad_fn=<MulBackward0>)\n"
     ]
    }
   ],
   "source": [
    "torch.manual_seed(123)\n",
    "dropout = torch.nn.Dropout(p=0.5)\n",
    "dropped_weights = dropout(weights)\n",
    "print(dropped_weights)"
   ]
  },
  {
   "cell_type": "markdown",
   "id": "6398f6c4",
   "metadata": {},
   "source": [
    "<b>Causal Attention Mechanism Class"
   ]
  },
  {
   "cell_type": "code",
   "execution_count": 26,
   "id": "b451b355",
   "metadata": {},
   "outputs": [],
   "source": [
    "class causalattention(torch.nn.Module):\n",
    "    def __init__(self, input_dim, out_dim,context_len,dropout,qkv_bias=False):\n",
    "        super().__init__()\n",
    "        self.w_query = torch.nn.Linear(input_dim, out_dim,bias=qkv_bias)\n",
    "        self.w_key = torch.nn.Linear(input_dim, out_dim,bias=qkv_bias)\n",
    "        self.w_value = torch.nn.Linear(input_dim, out_dim,bias=qkv_bias)\n",
    "        self.dropout = torch.nn.Dropout(p=dropout)\n",
    "        self.register_buffer(\"mask\", torch.triu(torch.ones(context_len, context_len), diagonal=1))\n",
    "    def forward(self, x):\n",
    "        b,num_tokens,input_dim = x.shape\n",
    "        queries = self.w_query(x)\n",
    "        keys = self.w_key(x)\n",
    "        values = self.w_value(x)\n",
    "\n",
    "        attention_scores = torch.matmul(queries, keys.transpose(1,2))\n",
    "        attention_scores=attention_scores.masked_fill(self.mask.bool()[:num_tokens,:num_tokens], float('-inf')) \n",
    "        attention_weights = torch.softmax(attention_scores/(keys.shape[1]**0.5), dim=-1)\n",
    "        attention_weights = self.dropout(attention_weights)\n",
    "        output = torch.matmul(attention_weights, values)\n",
    "        return output"
   ]
  },
  {
   "cell_type": "code",
   "execution_count": 27,
   "id": "83ee3011",
   "metadata": {},
   "outputs": [
    {
     "name": "stdout",
     "output_type": "stream",
     "text": [
      "torch.Size([2, 6, 3])\n",
      "tensor([[[ 0.0000,  0.0000],\n",
      "         [ 0.0000,  0.0000],\n",
      "         [ 0.0055,  0.2110],\n",
      "         [-0.0492,  0.1841],\n",
      "         [-0.0018,  0.0584],\n",
      "         [-0.0016,  0.0483]],\n",
      "\n",
      "        [[-0.0294, -0.0246],\n",
      "         [ 0.0254,  0.1736],\n",
      "         [ 0.0168,  0.1152],\n",
      "         [ 0.0125,  0.0858],\n",
      "         [-0.0437,  0.0797],\n",
      "         [-0.0355, -0.0025]]], grad_fn=<UnsafeViewBackward0>)\n"
     ]
    }
   ],
   "source": [
    "batch = torch.stack((inputs,inputs),dim=0)  # Create a batch of 2 identical sequences\n",
    "print(batch.shape)\n",
    "test3 = causalattention(input_dim=3, out_dim=2,context_len=6,dropout=0.5)\n",
    "contexts_vecs = test3.forward(batch)\n",
    "print(contexts_vecs)\n"
   ]
  },
  {
   "cell_type": "markdown",
   "id": "c1f13f15",
   "metadata": {},
   "source": [
    "<b> Multi Head attention mechanism\n"
   ]
  },
  {
   "cell_type": "code",
   "execution_count": 28,
   "id": "4124f720",
   "metadata": {},
   "outputs": [],
   "source": [
    "class Multiheadattentionv1(torch.nn.Module):\n",
    "    def __init__(self, input_dim, out_dim, num_heads, context_len, dropout, qkv_bias=False):\n",
    "        super().__init__()\n",
    "        self.num_heads = num_heads\n",
    "        self.attention_heads = torch.nn.ModuleList([\n",
    "            causalattention(input_dim, out_dim, context_len, dropout, qkv_bias) \n",
    "            for _ in range(num_heads)\n",
    "        ])\n",
    "\n",
    "    def forward(self, x):\n",
    "        return torch.cat([head(x) for head in self.attention_heads], dim=-1)"
   ]
  },
  {
   "cell_type": "code",
   "execution_count": 29,
   "id": "33734ab1",
   "metadata": {},
   "outputs": [
    {
     "name": "stdout",
     "output_type": "stream",
     "text": [
      "tensor([[[ 0.0000,  0.0000,  0.0000,  0.0000],\n",
      "         [ 0.0155, -0.0989, -0.0257,  0.0369],\n",
      "         [-0.0426, -0.0455, -0.0035, -0.0393],\n",
      "         [ 0.0407, -0.0665, -0.0009, -0.0094],\n",
      "         [ 0.0250, -0.1343, -0.0020, -0.0236],\n",
      "         [ 0.0415, -0.0551,  0.0331, -0.0256]],\n",
      "\n",
      "        [[ 0.1580, -0.0613,  0.0000,  0.0000],\n",
      "         [-0.0637, -0.0681, -0.0257,  0.0369],\n",
      "         [ 0.0119, -0.1339, -0.0183,  0.0120],\n",
      "         [-0.0095, -0.1013, -0.0035, -0.0390],\n",
      "         [ 0.0250, -0.1343, -0.0102,  0.0147],\n",
      "         [ 0.0049, -0.0333,  0.0029,  0.0358]]], grad_fn=<CatBackward0>)\n"
     ]
    }
   ],
   "source": [
    "test4 = Multiheadattentionv1(input_dim=3, out_dim=2, num_heads=2, context_len=6, dropout=0.5)\n",
    "contexts_vecs_multihead = test4.forward(batch)\n",
    "print(contexts_vecs_multihead)"
   ]
  },
  {
   "cell_type": "markdown",
   "id": "8eeac7af",
   "metadata": {},
   "source": [
    "<b>Multi head attention with weight splits"
   ]
  },
  {
   "cell_type": "code",
   "execution_count": 30,
   "id": "db2b4f99",
   "metadata": {},
   "outputs": [],
   "source": [
    "class Multiheadattentionv2(torch.nn.Module):\n",
    "    def __init__(self, input_dim, out_dim, num_heads, context_len, dropout, qkv_bias=False):\n",
    "        super().__init__()\n",
    "        assert out_dim % num_heads == 0, \"out_dim must be divisible by num_heads\"\n",
    "        self.out_dim = out_dim\n",
    "        self.num_heads = num_heads\n",
    "        self.head_dim = out_dim // num_heads\n",
    "        self.w_query = torch.nn.Linear(input_dim, out_dim, bias=qkv_bias)\n",
    "        self.w_key = torch.nn.Linear(input_dim, out_dim, bias=qkv_bias)\n",
    "        self.w_value = torch.nn.Linear(input_dim, out_dim, bias=qkv_bias)\n",
    "        self.dropout = torch.nn.Dropout(p=dropout)\n",
    "        self.register_buffer(\"mask\", torch.triu(torch.ones(context_len, context_len), diagonal=1))\n",
    "\n",
    "    def forward(self, x):\n",
    "        b, num_tokens, input_dim = x.shape\n",
    "        \n",
    "        # Split and reshape for multi-head attention\n",
    "        queries = self.w_query(x).view(b, num_tokens, self.num_heads, self.head_dim).transpose(1, 2)\n",
    "        keys = self.w_key(x).view(b, num_tokens, self.num_heads, self.head_dim).transpose(1, 2)\n",
    "        values = self.w_value(x).view(b, num_tokens, self.num_heads, self.head_dim).transpose(1, 2)\n",
    "\n",
    "        \n",
    "        attention_scores = torch.matmul(queries, keys.transpose(2, 3))\n",
    "        attention_scores = attention_scores.masked_fill(self.mask.bool()[:num_tokens, :num_tokens], -torch.inf)\n",
    "        attention_weights = torch.softmax(attention_scores/keys.shape[-1]**0.5, dim=-1)\n",
    "        attention_weights = self.dropout(attention_weights)\n",
    "\n",
    "        output = torch.matmul(attention_weights, values).transpose(1, 2).contiguous().view(b, num_tokens, self.out_dim)\n",
    "        return output"
   ]
  },
  {
   "cell_type": "code",
   "execution_count": 31,
   "id": "10217611",
   "metadata": {},
   "outputs": [
    {
     "name": "stdout",
     "output_type": "stream",
     "text": [
      "tensor([[-0.0089,  0.0039,  0.0851,  0.1502, -0.1550, -0.1186],\n",
      "        [ 0.1058, -0.0568, -0.0158,  0.0961, -0.1254, -0.0656],\n",
      "        [-0.1381, -0.1575,  0.1219,  0.0845,  0.1126,  0.0127],\n",
      "        [-0.0756,  0.1092, -0.0810, -0.0303,  0.0479,  0.0165],\n",
      "        [-0.0089,  0.0039,  0.0851,  0.1502, -0.1550, -0.1186],\n",
      "        [ 0.1076,  0.1495, -0.0836, -0.0627,  0.1230, -0.0256]])\n",
      "torch.Size([2, 6, 6])\n",
      "tensor([[[ 0.0000,  0.0000,  0.0000,  0.0000,  0.0000,  0.0000],\n",
      "         [ 0.0037, -0.0019,  0.0136, -0.0799,  0.0117, -0.0673],\n",
      "         [-0.0152,  0.0084,  0.0005, -0.0534,  0.0078, -0.0450],\n",
      "         [-0.0286, -0.0125, -0.0564, -0.0629,  0.0240, -0.0547],\n",
      "         [-0.0134, -0.0146, -0.0363, -0.0235,  0.0160,  0.0019],\n",
      "         [-0.0097, -0.0127, -0.0251, -0.0686,  0.0199, -0.0589]],\n",
      "\n",
      "        [[ 0.0074, -0.0038,  0.0272,  0.0000,  0.0000,  0.0000],\n",
      "         [ 0.0000,  0.0000,  0.0000, -0.0799,  0.0117, -0.0673],\n",
      "         [-0.0152,  0.0084,  0.0005,  0.0000,  0.0000,  0.0000],\n",
      "         [ 0.0000,  0.0000,  0.0000,  0.0036, -0.0506, -0.0404],\n",
      "         [-0.0109, -0.0167, -0.0351, -0.0207, -0.0243, -0.0304],\n",
      "         [-0.0010,  0.0139,  0.0250, -0.0856,  0.0307, -0.0236]]],\n",
      "       grad_fn=<ViewBackward0>)\n"
     ]
    }
   ],
   "source": [
    "words=[\"the\",\"sun\",\"rises\",\"in\",\"the\",\"east\"]\n",
    "model=Word2Vec([words],min_count=1,vector_size=6)\n",
    "inputs = torch.tensor(model.wv[words])  # Convert words to their corresponding vectors\n",
    "print(inputs)\n",
    "batch = torch.stack((inputs,inputs),dim=0)  # Create a batch of 2 identical sequences\n",
    "print(batch.shape)\n",
    "test4 = Multiheadattentionv2(input_dim=6, out_dim=6, num_heads=2, context_len=6, dropout=0.5)\n",
    "contexts_vecs_multihead = test4.forward(batch)\n",
    "print(contexts_vecs_multihead)"
   ]
  },
  {
   "cell_type": "markdown",
   "id": "b5527ddc",
   "metadata": {},
   "source": [
    "<b>Implementing GPT from scratch"
   ]
  },
  {
   "cell_type": "code",
   "execution_count": 32,
   "id": "094881fd",
   "metadata": {},
   "outputs": [],
   "source": [
    "GPT_CONFIG_124M={\n",
    "    \"vocab_size\": 50257,\n",
    "    \"context_len\": 1024,\n",
    "    \"n_embd\": 768,\n",
    "    \"n_layer\": 12,\n",
    "    \"n_head\": 12,\n",
    "    \"dropout\": 0.1,\n",
    "    \"qkv_bias\": False\n",
    "}"
   ]
  },
  {
   "cell_type": "code",
   "execution_count": 33,
   "id": "461faeb3",
   "metadata": {},
   "outputs": [],
   "source": [
    "import torch\n",
    "class DummyGPTModel(torch.nn.Module):\n",
    "    def __init__(self, config):\n",
    "        super().__init__()\n",
    "        self.token_embedding = torch.nn.Embedding(config['vocab_size'], config['n_embd'])\n",
    "        self.position_embedding = torch.nn.Embedding(config['context_len'], config['n_embd'])\n",
    "        self.dropout = torch.nn.Dropout(config['dropout'])\n",
    "        \n",
    "        #Placeholder for the actual transformer blocks\n",
    "        self.trf = torch.nn.Sequential(\n",
    "            *[DummyTransformer(config) for _ in range(config['n_layer'])])\n",
    "        \n",
    "        # Final layer norm\n",
    "        self.final_norm = DummyLayerNorm(config['n_embd'])\n",
    "        self.head = torch.nn.Linear(config['n_embd'], config['vocab_size'], bias=False)\n",
    "        \n",
    "\n",
    "    def forward(self, idx):\n",
    "        b, t = idx.shape\n",
    "        token_embeddings = self.token_embedding(idx)\n",
    "        position_embeddings = self.position_embedding(torch.arange(t, device=idx.device))\n",
    "        \n",
    "        x = token_embeddings + position_embeddings\n",
    "        x = self.dropout(x)\n",
    "\n",
    "        x = self.trf(x)\n",
    "        x = self.final_norm(x)\n",
    "        logits = self.head(x)\n",
    "        \n",
    "        return logits\n",
    "\n",
    "class DummyTransformer(torch.nn.Module):\n",
    "    def __init__(self,config):\n",
    "        super().__init__()\n",
    "    def forward(self,x):\n",
    "        return x\n",
    "class DummyLayerNorm(torch.nn.Module):\n",
    "    def __init__(self,shape,eps=1e-5):\n",
    "        super().__init__()\n",
    "    def forward(self,x):\n",
    "        return x"
   ]
  },
  {
   "cell_type": "markdown",
   "id": "4c49ad57",
   "metadata": {},
   "source": [
    "<b> Tokenization:"
   ]
  },
  {
   "cell_type": "code",
   "execution_count": 34,
   "id": "5f558296",
   "metadata": {},
   "outputs": [
    {
     "name": "stdout",
     "output_type": "stream",
     "text": [
      "tensor([[  464,  4252, 16736,   287,   262],\n",
      "        [  464,  4252,  5621,   287,   262]])\n"
     ]
    }
   ],
   "source": [
    "import tiktoken\n",
    "\n",
    "tokenizer = tiktoken.get_encoding(\"gpt2\")\n",
    "batch=[]\n",
    "txt1 = \"The sun rises in the\"\n",
    "txt2 = \"The sun sets in the\"\n",
    "batch.append(torch.tensor(tokenizer.encode(txt1)))\n",
    "batch.append(torch.tensor(tokenizer.encode(txt2)))\n",
    "batch = torch.stack(batch, dim=0)\n",
    "print(batch)"
   ]
  },
  {
   "cell_type": "markdown",
   "id": "9fbce10a",
   "metadata": {},
   "source": [
    "<b>Instance of DummyGPTModel:"
   ]
  },
  {
   "cell_type": "code",
   "execution_count": 35,
   "id": "50a92944",
   "metadata": {},
   "outputs": [
    {
     "name": "stdout",
     "output_type": "stream",
     "text": [
      "torch.Size([2, 5, 50257])\n",
      "tensor([[[ 0.5209,  0.5520, -0.1626,  ..., -0.6756,  0.4891,  1.0015],\n",
      "         [ 0.2441,  1.2358,  0.7340,  ...,  0.8618,  0.6503,  0.6837],\n",
      "         [-0.1495,  0.3894, -0.2040,  ...,  0.3658, -0.6975,  0.0046],\n",
      "         [-0.4361,  2.2998, -0.8146,  ...,  1.0815, -0.0610,  0.4576],\n",
      "         [-0.6581, -0.4606,  0.6273,  ...,  0.6359, -1.1219, -0.1483]],\n",
      "\n",
      "        [[ 0.6502,  0.6544, -0.4624,  ..., -0.6154,  0.2181,  1.1435],\n",
      "         [ 0.4852,  1.2206, -0.0328,  ...,  0.7643,  0.6751,  0.7432],\n",
      "         [ 0.4855,  0.2990, -0.0415,  ..., -0.3032,  0.9354,  0.3412],\n",
      "         [-0.1921,  1.6800, -0.7408,  ...,  0.7503,  0.0276,  0.4491],\n",
      "         [-0.4396, -0.8658,  0.2206,  ...,  0.7252, -1.3121,  0.0530]]],\n",
      "       grad_fn=<UnsafeViewBackward0>)\n"
     ]
    }
   ],
   "source": [
    "torch.manual_seed(123)\n",
    "model = DummyGPTModel(GPT_CONFIG_124M)\n",
    "logits = model(batch)\n",
    "print(logits.shape)\n",
    "print(logits)"
   ]
  },
  {
   "cell_type": "markdown",
   "id": "3e93ddef",
   "metadata": {},
   "source": [
    "<b> Layer Normalization:"
   ]
  },
  {
   "cell_type": "code",
   "execution_count": 36,
   "id": "e5ce29af",
   "metadata": {},
   "outputs": [],
   "source": [
    "class LayerNorm(torch.nn.Module):\n",
    "    def __init__(self, n_embd, eps=1e-5):\n",
    "        super().__init__()\n",
    "        self.eps = eps\n",
    "        self.gamma = torch.nn.Parameter(torch.ones(n_embd))\n",
    "        self.beta = torch.nn.Parameter(torch.zeros(n_embd))\n",
    "\n",
    "    def forward(self, x):\n",
    "        mean = x.mean(dim=-1, keepdim=True)\n",
    "        variance = x.var(dim=-1, keepdim=True, unbiased=False)\n",
    "        x_normalized = (x - mean) / torch.sqrt(variance + self.eps)\n",
    "        return self.gamma * x_normalized + self.beta"
   ]
  },
  {
   "cell_type": "code",
   "execution_count": 37,
   "id": "657cb643",
   "metadata": {},
   "outputs": [
    {
     "name": "stdout",
     "output_type": "stream",
     "text": [
      "tensor([[6.1467e-08],\n",
      "        [6.9539e-08]], grad_fn=<MeanBackward1>)\n",
      "tensor([[1.1999],\n",
      "        [1.1999]], grad_fn=<VarBackward0>)\n",
      "tensor([[ 0.3324,  0.8349, -0.2272,  0.0529, -2.0204,  1.0276],\n",
      "        [-1.4542, -0.9964,  1.2767,  0.3657,  1.0374, -0.2291]],\n",
      "       grad_fn=<AddBackward0>)\n"
     ]
    }
   ],
   "source": [
    "torch.manual_seed(123)\n",
    "batch = torch.randn(2, 6)\n",
    "ln = LayerNorm(n_embd=6)\n",
    "output = ln.forward(batch)\n",
    "mean = output.mean(dim=-1,keepdim=True)\n",
    "var = output.var(dim=-1,keepdim=True)\n",
    "print(mean)\n",
    "print(var)\n",
    "print(output)"
   ]
  },
  {
   "cell_type": "markdown",
   "id": "312657d3",
   "metadata": {},
   "source": [
    "<b> GELU Activation function:"
   ]
  },
  {
   "cell_type": "code",
   "execution_count": 38,
   "id": "df3b1807",
   "metadata": {},
   "outputs": [],
   "source": [
    "import torch\n",
    "class GELU(torch.nn.Module):\n",
    "    def __init__(self):\n",
    "        super().__init__()\n",
    "\n",
    "    def forward(self, x):\n",
    "        return 0.5 * x * (1 + torch.tanh(torch.sqrt(torch.tensor(2.0/torch.pi)) * (x + 0.044715 * (x ** 3))))"
   ]
  },
  {
   "cell_type": "code",
   "execution_count": 39,
   "id": "19201091",
   "metadata": {},
   "outputs": [],
   "source": [
    "class FeedForward(torch.nn.Module):\n",
    "    def __init__(self,cfg):\n",
    "        super().__init__()\n",
    "        self.layers = torch.nn.Sequential(\n",
    "            torch.nn.Linear(cfg['n_embd'], cfg['n_embd']*4),\n",
    "            GELU(),\n",
    "            torch.nn.Linear(cfg['n_embd']*4, cfg['n_embd']),\n",
    "        )\n",
    "\n",
    "    def forward(self, x):\n",
    "        return self.layers(x)\n"
   ]
  },
  {
   "cell_type": "code",
   "execution_count": 40,
   "id": "4435666e",
   "metadata": {},
   "outputs": [
    {
     "name": "stdout",
     "output_type": "stream",
     "text": [
      "torch.Size([2, 6, 768])\n"
     ]
    }
   ],
   "source": [
    "ffn = FeedForward(GPT_CONFIG_124M)\n",
    "batch = torch.randn(2, 6, 768)\n",
    "output = ffn.forward(batch)\n",
    "print(output.shape)"
   ]
  },
  {
   "cell_type": "markdown",
   "id": "cd581f37",
   "metadata": {},
   "source": [
    "<b>Transformers:"
   ]
  },
  {
   "cell_type": "code",
   "execution_count": 41,
   "id": "609c70b7",
   "metadata": {},
   "outputs": [],
   "source": [
    "class transformer_block(torch.nn.Module):\n",
    "    def __init__(self,cfg):\n",
    "        super().__init__()\n",
    "        self.ln1 = LayerNorm(cfg['n_embd'])\n",
    "        self.attn = Multiheadattentionv2(cfg['n_embd'], cfg['n_embd'], cfg['n_head'], cfg['context_len'], cfg['dropout'], cfg['qkv_bias'])\n",
    "        self.ln2 = LayerNorm(cfg['n_embd'])\n",
    "        self.ffn = FeedForward(cfg)\n",
    "        self.dropout = torch.nn.Dropout(cfg['dropout'])\n",
    "        \n",
    "\n",
    "    def forward(self, x):\n",
    "        shortcut = x\n",
    "        x = self.ln1(x)\n",
    "        x = self.attn(x)\n",
    "        x = self.dropout(x)\n",
    "        x = x + shortcut\n",
    "        \n",
    "        shortcut = x\n",
    "        x = self.ln2(x)\n",
    "        x = self.ffn(x)\n",
    "        x = self.dropout(x)\n",
    "        x = x + shortcut\n",
    "        return x"
   ]
  },
  {
   "cell_type": "code",
   "execution_count": 42,
   "id": "169e991e",
   "metadata": {},
   "outputs": [
    {
     "name": "stdout",
     "output_type": "stream",
     "text": [
      "torch.Size([2, 6, 768])\n",
      "torch.Size([2, 6, 768])\n"
     ]
    }
   ],
   "source": [
    "input = torch.randn(2, 6, 768)\n",
    "block = transformer_block(GPT_CONFIG_124M)\n",
    "output = block.forward(input)\n",
    "print(input.shape)\n",
    "print(output.shape)"
   ]
  }
 ],
 "metadata": {
  "kernelspec": {
   "display_name": "Python 3",
   "language": "python",
   "name": "python3"
  },
  "language_info": {
   "codemirror_mode": {
    "name": "ipython",
    "version": 3
   },
   "file_extension": ".py",
   "mimetype": "text/x-python",
   "name": "python",
   "nbconvert_exporter": "python",
   "pygments_lexer": "ipython3",
   "version": "3.12.2"
  }
 },
 "nbformat": 4,
 "nbformat_minor": 5
}
