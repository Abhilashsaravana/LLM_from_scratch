{
 "cells": [
  {
   "cell_type": "code",
   "execution_count": 14,
   "id": "354ed468",
   "metadata": {},
   "outputs": [
    {
     "name": "stdout",
     "output_type": "stream",
     "text": [
      "20479\n",
      "I H\n"
     ]
    }
   ],
   "source": [
    "with open(\"the-verdict.txt\",\"r\",encoding=\"utf-8\") as f:\n",
    "    text = f.read()\n",
    "\n",
    "print(len(text))\n",
    "print(text[:3])  # Print the first 1000 characters to verify content"
   ]
  },
  {
   "cell_type": "code",
   "execution_count": 40,
   "id": "768c98ef",
   "metadata": {},
   "outputs": [
    {
     "name": "stdout",
     "output_type": "stream",
     "text": [
      "{'!': 0, '\"': 1, \"'\": 2, \"'Are\": 3, \"'It's\": 4, \"'coming'\": 5, \"'done'\": 6, \"'subject\": 7, \"'technique'\": 8, \"'way\": 9, '(I': 10, '(Though': 11, ')': 12, ',': 13, '--': 14, '.': 15, ':': 16, ';': 17, '?': 18, 'A': 19, 'Ah': 20, 'Among': 21, 'And': 22, 'Arrt': 23, 'As': 24, 'At': 25, 'Be': 26, 'Begin': 27, 'Burlington': 28, 'But': 29, 'By': 30, 'Carlo': 31, 'Chicago': 32, 'Claude': 33, 'Come': 34, 'Croft': 35, 'Croft)': 36, 'Destroyed': 37, 'Devonshire': 38, \"Don't\": 39, 'Dubarry_': 40, 'Emperors': 41, 'Florence': 42, 'For': 43, 'Gallery': 44, 'Gideon': 45, 'Gisburn': 46, \"Gisburn's\": 47, 'Gisburns': 48, 'Grafton': 49, 'Greek': 50, 'Grindle': 51, \"Grindle's\": 52, 'Grindle:': 53, 'Grindles': 54, 'HAD': 55, 'Had': 56, 'Hang': 57, 'Has': 58, 'He': 59, 'Her': 60, 'Hermia': 61, \"Hermia's\": 62, 'His': 63, 'How': 64, 'I': 65, \"I'd\": 66, \"I'll\": 67, \"I've\": 68, 'If': 69, 'In': 70, 'It': 71, \"It's\": 72, 'Jack': 73, \"Jack's\": 74, 'Jove': 75, 'Just': 76, 'Lord': 77, 'Made': 78, 'Miss': 79, \"Money's\": 80, 'Monte': 81, 'Moon-dancers': 82, 'Mr': 83, 'Mrs': 84, 'My': 85, 'Never': 86, 'No': 87, 'Now': 88, 'Nutley': 89, 'Of': 90, 'Oh': 91, 'On': 92, 'Once': 93, 'Only': 94, 'Or': 95, 'Perhaps': 96, 'Poor': 97, 'Professional': 98, 'Renaissance': 99, 'Rickham': 100, 'Riviera': 101, 'Rome': 102, 'Russian': 103, 'Sevres': 104, 'She': 105, \"She's\": 106, 'Stroud': 107, \"Stroud's\": 108, 'Strouds': 109, 'Suddenly': 110, 'That': 111, \"That's\": 112, 'The': 113, 'Then': 114, 'There': 115, 'There:': 116, 'They': 117, 'This': 118, 'Those': 119, 'Thwing': 120, \"Thwing's\": 121, 'Thwings': 122, 'To': 123, 'Usually': 124, 'Venetian': 125, 'Victor': 126, 'Was': 127, 'We': 128, 'Well': 129, 'What': 130, 'When': 131, 'Why': 132, 'Yes': 133, 'You': 134, '_I': 135, '_am_': 136, '_famille-verte_': 137, '_felt_': 138, '_has_': 139, '_have_': 140, '_jardiniere_': 141, '_mine_': 142, '_not_': 143, '_rose': 144, '_rs_': 145, '_that_': 146, '_the_': 147, '_was_': 148, '_were_': 149, 'a': 150, 'abdication': 151, 'able': 152, 'about': 153, 'above': 154, 'abruptly': 155, 'absolute': 156, 'absorbed': 157, 'absurdity': 158, 'academic': 159, 'accuse': 160, 'accustomed': 161, 'across': 162, 'activity': 163, 'add': 164, 'added': 165, 'admirers': 166, 'adopted': 167, 'adulation': 168, 'advance': 169, 'aesthetic': 170, 'affect': 171, 'afraid': 172, 'after': 173, 'afterward': 174, 'again': 175, 'ago': 176, 'ah': 177, 'air': 178, 'alive': 179, 'all': 180, 'almost': 181, 'alone': 182, 'along': 183, 'always': 184, 'amazement': 185, 'amid': 186, 'among': 187, 'amplest': 188, 'amusing': 189, 'an': 190, 'and': 191, 'another': 192, 'answer': 193, 'answered': 194, 'any': 195, 'anything': 196, 'anywhere': 197, 'apparent': 198, 'apparently': 199, 'appearance': 200, 'appeared': 201, 'appointed': 202, 'are': 203, 'arm': 204, 'arm-chair': 205, 'arm-chairs': 206, 'arms': 207, 'art': 208, 'articles': 209, 'artist': 210, 'as': 211, 'aside': 212, 'asked': 213, 'at': 214, 'atmosphere': 215, 'atom': 216, 'attack': 217, 'attention': 218, 'attitude': 219, 'audacities': 220, 'away': 221, 'awful': 222, 'axioms': 223, 'azaleas': 224, 'back': 225, 'background': 226, 'balance': 227, 'balancing': 228, 'balustraded': 229, 'basking': 230, 'bath-rooms': 231, 'be': 232, 'beaming': 233, 'bean-stalk': 234, 'bear': 235, 'beard': 236, 'beauty': 237, 'became': 238, 'because': 239, 'becoming': 240, 'bed': 241, 'been': 242, 'before': 243, 'began': 244, 'begun': 245, 'behind': 246, 'being': 247, 'believed': 248, 'beneath': 249, 'bespoke': 250, 'better': 251, 'between': 252, 'big': 253, 'bits': 254, 'bitterness': 255, 'blocked': 256, 'born': 257, 'borne': 258, 'boudoir': 259, 'bravura': 260, 'break': 261, 'breaking': 262, 'breathing': 263, 'bric-a-brac': 264, 'briefly': 265, 'brings': 266, 'bronzes': 267, 'brought': 268, 'brown': 269, 'brush': 270, 'bull': 271, 'business': 272, 'but': 273, 'buying': 274, 'by': 275, 'called': 276, 'came': 277, 'can': 278, 'canvas': 279, 'canvases': 280, 'cards': 281, 'care': 282, 'career': 283, 'caught': 284, 'central': 285, 'chair': 286, 'chap': 287, 'characteristic': 288, 'charming': 289, 'cheap': 290, 'check': 291, 'cheeks': 292, 'chest': 293, 'chimney-piece': 294, 'chucked': 295, 'cigar': 296, 'cigarette': 297, 'cigars': 298, 'circulation': 299, 'circumstance': 300, \"circus-clown's\": 301, 'claimed': 302, 'clasping': 303, 'clear': 304, 'cleverer': 305, 'close': 306, 'clue': 307, 'coat': 308, 'collapsed': 309, 'colour': 310, 'come': 311, 'comfortable': 312, 'coming': 313, 'companion': 314, 'compared': 315, 'complex': 316, 'confident': 317, 'congesting': 318, 'conjugal': 319, 'constraint': 320, 'consummate': 321, 'contended': 322, 'continued': 323, 'corner': 324, 'corrected': 325, 'could': 326, \"couldn't\": 327, 'count': 328, 'countenance': 329, 'couple': 330, 'course': 331, 'covered': 332, 'craft': 333, 'cried': 334, 'crossed': 335, 'crowned': 336, 'crumbled': 337, 'cry': 338, 'cured': 339, 'curiosity': 340, 'curious': 341, 'current': 342, 'curtains': 343, 'dabble': 344, 'damask': 345, 'dark': 346, 'dashed': 347, 'day': 348, 'days': 349, 'dead': 350, 'deadening': 351, 'dear': 352, 'deep': 353, \"deerhound's\": 354, 'degree': 355, 'delicate': 356, 'demand': 357, 'denied': 358, 'deploring': 359, 'deprecating': 360, 'deprecatingly': 361, 'desire': 362, 'destroyed': 363, 'destruction': 364, 'desultory': 365, 'detail': 366, 'diagnosis': 367, 'did': 368, \"didn't\": 369, 'died': 370, 'dim': 371, 'dimmest': 372, 'dingy': 373, 'dining-room': 374, 'disarming': 375, 'discovery': 376, 'discrimination': 377, 'discussion': 378, 'disdain': 379, 'disdained': 380, 'disease': 381, 'disguised': 382, 'display': 383, 'dissatisfied': 384, 'distinguished': 385, 'distract': 386, 'divert': 387, 'do': 388, \"doesn't\": 389, 'doing': 390, 'domestic': 391, \"don't\": 392, 'done': 393, 'donkey': 394, 'down': 395, 'dozen': 396, 'dragged': 397, 'drawing-room': 398, 'drawing-rooms': 399, 'drawn': 400, 'dress-closets': 401, 'drew': 402, 'dropped': 403, 'each': 404, 'earth': 405, 'ease': 406, 'easel': 407, 'easy': 408, 'echoed': 409, 'economy': 410, 'effect': 411, 'effects': 412, 'efforts': 413, 'egregious': 414, 'eighteenth-century': 415, 'elbow': 416, 'elegant': 417, 'else': 418, 'embarrassed': 419, 'enabled': 420, 'end': 421, 'endless': 422, 'enjoy': 423, 'enlightenment:': 424, 'enough': 425, 'ensuing': 426, 'equally': 427, 'equanimity': 428, 'escape': 429, 'established': 430, 'etching': 431, 'even': 432, 'event': 433, 'ever': 434, 'everlasting': 435, 'every': 436, 'exasperated': 437, 'except': 438, 'excuse': 439, 'excusing': 440, 'existed': 441, 'expected': 442, 'exquisite': 443, 'exquisitely': 444, 'extenuation': 445, 'exterminating': 446, 'extracting': 447, 'eye': 448, 'eyebrows': 449, 'eyes': 450, 'eyes:': 451, 'face': 452, 'faces': 453, 'fact': 454, 'faded': 455, 'failed': 456, 'failure': 457, 'fair': 458, 'faith': 459, 'false': 460, 'familiar': 461, 'fancy': 462, 'fashionable': 463, 'fate': 464, 'feather': 465, 'feet': 466, 'fell': 467, 'fellow': 468, 'felt': 469, 'few': 470, 'fewer': 471, 'finality': 472, 'find': 473, 'fingers': 474, 'first': 475, 'fit': 476, 'fitting': 477, 'five': 478, 'flash': 479, 'flashed': 480, 'florid': 481, 'flowers': 482, 'fluently': 483, 'flung': 484, 'follow': 485, 'followed': 486, 'fond': 487, 'footstep': 488, 'for': 489, 'forced': 490, 'forcing': 491, 'forehead': 492, 'foreign': 493, 'foreseen': 494, 'forgive': 495, 'forgotten': 496, 'form': 497, 'formed': 498, 'forming': 499, 'forward': 500, 'fostered': 501, 'found': 502, 'foundations': 503, 'fragment': 504, 'fragments': 505, 'frame': 506, 'frames': 507, 'frequently': 508, \"friend's\": 509, 'from': 510, 'full': 511, 'fullest': 512, 'furiously': 513, 'furrowed': 514, 'garlanded': 515, 'garlands': 516, 'gave': 517, 'genial': 518, 'genius': 519, 'gesture': 520, 'get': 521, 'getting': 522, 'give': 523, 'given': 524, 'glad': 525, 'glanced': 526, 'glimpse': 527, 'gloried': 528, 'glory': 529, 'go': 530, 'going': 531, 'gone': 532, 'good': 533, 'good-breeding': 534, 'good-humoured': 535, 'got': 536, 'grace': 537, 'gradually': 538, 'gray': 539, 'grayish': 540, 'great': 541, 'greatest': 542, 'greatness': 543, 'grew': 544, 'groping': 545, 'growing': 546, 'had': 547, \"hadn't\": 548, 'hair': 549, 'half': 550, 'half-light': 551, 'half-mechanically': 552, 'hall': 553, 'hand': 554, 'hands': 555, 'handsome': 556, 'hanging': 557, 'happen': 558, 'happened': 559, 'hard': 560, 'hardly': 561, 'have': 562, \"haven't\": 563, 'having': 564, 'he': 565, \"he'd\": 566, \"he's\": 567, 'head': 568, 'hear': 569, 'heard': 570, 'heart': 571, 'height': 572, 'her': 573, 'here': 574, 'hermit': 575, 'herself': 576, 'hesitations': 577, 'hide': 578, 'high': 579, 'him': 580, 'him:': 581, 'himself': 582, 'hint': 583, 'his': 584, 'history': 585, 'holding': 586, 'home': 587, 'honour': 588, 'hooded': 589, 'hostess': 590, 'hostess:': 591, 'hot-house': 592, 'hour': 593, 'hours': 594, 'house': 595, 'how': 596, \"how'\": 597, 'hung': 598, 'husband': 599, \"husband's\": 600, 'idea': 601, 'idle': 602, 'idling': 603, 'if': 604, 'immediately': 605, 'in': 606, 'incense': 607, 'indifferent': 608, 'inevitable': 609, 'inevitably': 610, 'inflexible': 611, 'insensible': 612, 'insignificant': 613, 'instinctively': 614, 'instructive': 615, 'interesting': 616, 'into': 617, 'ironic': 618, 'irony': 619, 'irrelevance': 620, 'irrevocable': 621, 'is': 622, 'it': 623, \"it's\": 624, 'its': 625, 'itself': 626, 'jealousy': 627, 'just': 628, 'keep': 629, 'kept': 630, 'kind': 631, 'knees': 632, 'knew': 633, 'know': 634, 'known_': 635, 'laid': 636, 'lair': 637, 'landing': 638, 'language': 639, 'last': 640, 'late': 641, 'later': 642, 'latter': 643, \"latter's\": 644, 'laugh': 645, 'laugh:': 646, 'laughed': 647, 'lay': 648, 'leading': 649, 'lean': 650, 'learned': 651, 'least': 652, 'leathery:': 653, 'leave': 654, 'led': 655, 'left': 656, 'leisure': 657, 'lends': 658, 'lent': 659, 'let': 660, 'lies': 661, 'life': 662, 'life-likeness': 663, 'lift': 664, 'lifted': 665, 'light': 666, 'lightly': 667, 'like': 668, 'liked': 669, 'line': 670, 'lines': 671, 'lingered': 672, 'lips': 673, 'lit': 674, 'little': 675, 'little:': 676, 'live': 677, 'loathing': 678, 'long': 679, 'longed': 680, 'longer': 681, 'look': 682, 'looked': 683, 'looking': 684, 'lose': 685, 'loss': 686, 'lounging': 687, 'lovely': 688, 'lucky': 689, 'lump': 690, 'luncheon-table': 691, 'luxury': 692, 'lying': 693, 'made': 694, 'make': 695, 'man': 696, 'manage': 697, 'managed': 698, 'mantel-piece': 699, 'marble': 700, 'married': 701, 'may': 702, 'me': 703, 'meant': 704, 'mediocrity': 705, 'medium': 706, 'mentioned': 707, 'mere': 708, 'merely': 709, 'met': 710, 'might': 711, 'mighty': 712, \"millionaire's\": 713, 'mine': 714, 'mine:': 715, 'minute': 716, 'minutes': 717, 'mirrors': 718, 'modest': 719, 'modesty': 720, 'moment': 721, 'money': 722, 'monumental': 723, 'mood': 724, 'morbidly': 725, 'more': 726, 'most': 727, 'mourn': 728, 'mourned': 729, 'moustache': 730, 'moved': 731, 'much': 732, 'muddling': 733, 'multiplied': 734, 'murmur': 735, 'muscles': 736, 'must': 737, 'my': 738, 'myself': 739, 'mysterious': 740, 'naive': 741, 'near': 742, 'nearly': 743, 'negatived': 744, 'nervous': 745, 'nervousness': 746, 'neutral': 747, 'never': 748, 'next': 749, 'no': 750, 'none': 751, 'not': 752, 'note': 753, 'nothing': 754, 'now': 755, 'nymphs': 756, 'oak': 757, 'obituary': 758, 'object': 759, 'objects': 760, 'occurred': 761, 'oddly': 762, 'of': 763, 'off': 764, 'often': 765, 'oh': 766, 'old': 767, 'on': 768, 'once': 769, 'one': 770, 'ones': 771, 'only': 772, 'onto': 773, 'open': 774, 'or': 775, 'other': 776, 'our': 777, 'ourselves': 778, 'out': 779, 'out:': 780, 'outline': 781, 'oval': 782, 'over': 783, 'own': 784, 'packed': 785, 'paid': 786, 'paint': 787, 'painted': 788, 'painter': 789, 'painting': 790, 'pale': 791, 'paled': 792, 'palm-trees': 793, 'panel': 794, 'panelling': 795, 'pardonable': 796, 'pardoned': 797, 'part': 798, 'passages': 799, 'passing': 800, 'past': 801, 'pastels': 802, 'pathos': 803, 'patient': 804, 'people': 805, 'perceptible': 806, 'perfect': 807, 'persistence': 808, 'persuasively': 809, 'phrase': 810, 'picture': 811, 'pictures': 812, 'pines': 813, 'pink': 814, 'place': 815, 'placed': 816, 'plain': 817, 'platitudes': 818, 'pleased': 819, 'pockets': 820, 'point': 821, 'poised': 822, 'poor': 823, 'portrait': 824, 'posing': 825, 'possessed': 826, 'poverty': 827, 'predicted': 828, 'preliminary': 829, 'presenting': 830, 'prestidigitation': 831, 'pretty': 832, 'previous': 833, 'price': 834, 'pride': 835, 'pride:': 836, 'princely': 837, 'prism': 838, 'problem': 839, 'proclaiming': 840, 'prodigious': 841, 'profusion': 842, 'protest': 843, 'prove': 844, 'public': 845, 'purblind': 846, 'purely': 847, 'pushed': 848, 'put': 849, 'qualities': 850, 'quality': 851, 'queerly': 852, 'question': 853, 'question:': 854, 'quickly': 855, 'quietly': 856, 'quite': 857, 'quote': 858, 'rain': 859, 'raised': 860, 'random': 861, 'rather': 862, 'real': 863, 'really': 864, 'reared': 865, 'reason': 866, 'reassurance': 867, 'recovering': 868, 'recreated': 869, 'reflected': 870, 'reflection': 871, 'regrets': 872, 'relatively': 873, 'remained': 874, 'remember': 875, 'reminded': 876, 'repeating': 877, 'represented': 878, 'reproduction': 879, 'resented': 880, 'resolve': 881, 'resources': 882, 'rest': 883, 'rich': 884, 'ridiculous': 885, 'robbed': 886, 'romantic': 887, 'room': 888, 'rose': 889, 'rule': 890, 'run': 891, 'said': 892, 'said:': 893, 'same': 894, 'satisfaction': 895, 'satisfaction:': 896, 'savour': 897, 'saw': 898, 'say': 899, 'say:': 900, 'saying': 901, 'says': 902, 'scorn': 903, 'scornful': 904, 'secret': 905, 'see': 906, 'seemed': 907, 'seen': 908, 'self-confident': 909, 'send': 910, 'sensation': 911, 'sensitive': 912, 'sent': 913, 'serious': 914, 'set': 915, 'sex': 916, 'shade': 917, 'shaking': 918, 'shall': 919, 'she': 920, \"she's\": 921, 'shirked': 922, 'short': 923, 'should': 924, 'shoulder': 925, 'shoulders': 926, 'show': 927, 'showed': 928, 'showy': 929, 'shrug': 930, 'shrugged': 931, 'sight': 932, 'sign': 933, 'silent': 934, 'silver': 935, 'similar': 936, 'simpleton': 937, 'simplifications': 938, 'simply': 939, 'since': 940, 'single': 941, 'sitter': 942, 'sitters': 943, 'sketch': 944, 'skill': 945, 'slight': 946, 'slightly': 947, 'slowly:': 948, 'small': 949, 'smile': 950, 'smiling': 951, 'sneer': 952, 'so': 953, 'solace': 954, 'some': 955, 'somebody': 956, 'something': 957, 'spacious': 958, 'spaniel': 959, 'speaking-tubes': 960, 'speculations': 961, 'spite': 962, 'splash': 963, 'square': 964, 'stairs': 965, 'stammer': 966, 'stand': 967, 'standing': 968, 'started': 969, 'stay': 970, 'still': 971, 'stocked': 972, 'stood': 973, 'stopped': 974, 'stopping': 975, 'straddling': 976, 'straight': 977, 'strain': 978, 'straining': 979, 'strange': 980, 'straw': 981, 'stream': 982, 'stroke': 983, 'strokes': 984, 'strolled': 985, 'strongest': 986, 'strongly': 987, 'struck': 988, 'studio': 989, 'stuff': 990, 'subject': 991, 'substantial': 992, 'suburban': 993, 'such': 994, 'suddenly': 995, 'suffered': 996, 'sugar': 997, 'suggested': 998, 'sunburn': 999, 'sunburnt': 1000, 'sunlit': 1001, 'superb': 1002, 'sure': 1003, 'surest': 1004, 'surface': 1005, 'surprise': 1006, 'surprised': 1007, 'surrounded': 1008, 'suspected': 1009, 'sweetly': 1010, 'sweetness': 1011, 'swelling': 1012, 'swept': 1013, 'swum': 1014, 'table': 1015, 'take': 1016, 'taken': 1017, 'talking': 1018, 'tea': 1019, 'tears': 1020, 'technicalities': 1021, 'tell': 1022, 'tells': 1023, 'tempting': 1024, 'terra-cotta': 1025, 'terrace': 1026, 'terraces': 1027, 'terribly': 1028, 'than': 1029, 'that': 1030, 'the': 1031, 'their': 1032, 'them': 1033, 'then': 1034, 'there': 1035, \"there's\": 1036, 'therefore': 1037, 'they': 1038, \"they're\": 1039, 'thin': 1040, 'thing': 1041, 'things': 1042, 'think': 1043, 'this': 1044, 'thither': 1045, 'those': 1046, 'though': 1047, 'thought': 1048, 'thought:': 1049, 'three': 1050, 'threshold': 1051, 'threw': 1052, 'through': 1053, 'throwing': 1054, 'tie': 1055, 'till': 1056, 'time': 1057, 'timorously': 1058, 'tinge': 1059, 'tips': 1060, 'tired': 1061, 'to': 1062, 'told': 1063, 'tone': 1064, 'tones': 1065, 'too': 1066, 'took': 1067, 'tottering': 1068, 'touched': 1069, 'toward': 1070, 'trace': 1071, 'trade': 1072, 'transmute': 1073, 'traps': 1074, 'travelled': 1075, 'tribute': 1076, 'tributes': 1077, 'tricks': 1078, 'tried': 1079, 'trouser-presses': 1080, 'true': 1081, 'truth': 1082, 'turned': 1083, 'twenty': 1084, 'twenty-four': 1085, 'twice': 1086, 'twirling': 1087, 'unaccountable': 1088, 'uncertain': 1089, 'under': 1090, 'underlay': 1091, 'underneath': 1092, 'understand': 1093, 'unexpected': 1094, 'untouched': 1095, 'unusual': 1096, 'up': 1097, 'up-stream': 1098, 'upon': 1099, 'upset': 1100, 'upstairs': 1101, 'us': 1102, 'used': 1103, 'usual': 1104, 'value': 1105, 'varnishing': 1106, 'vases': 1107, 'veins': 1108, 'velveteen': 1109, 'very': 1110, 'villa': 1111, 'vindicated': 1112, 'virtuosity': 1113, 'vista': 1114, 'vocation': 1115, 'voice': 1116, 'wall': 1117, 'wander': 1118, 'want': 1119, 'wanted': 1120, 'wants': 1121, 'was': 1122, \"wasn't\": 1123, 'watched': 1124, 'watching': 1125, 'water-colour': 1126, 'waves': 1127, 'way': 1128, 'weekly': 1129, 'weeks': 1130, \"weeks'\": 1131, 'welcome': 1132, 'went': 1133, 'were': 1134, 'what': 1135, 'when': 1136, 'whenever': 1137, 'where': 1138, 'which': 1139, 'while': 1140, 'white': 1141, 'white-panelled': 1142, 'who': 1143, 'whole': 1144, 'whom)': 1145, 'why': 1146, 'wide': 1147, 'widow': 1148, 'wife': 1149, \"wife's\": 1150, 'wild': 1151, 'wincing': 1152, 'window-curtains': 1153, 'wish': 1154, 'with': 1155, 'without': 1156, \"wits'\": 1157, 'woman': 1158, 'women': 1159, 'women:': 1160, \"won't\": 1161, 'wonder': 1162, 'wondered': 1163, 'word': 1164, 'work': 1165, 'working': 1166, 'worth': 1167, 'would': 1168, \"wouldn't\": 1169, 'year': 1170, 'years': 1171, 'yellow': 1172, 'yet': 1173, 'you': 1174, \"you'd\": 1175, \"you're\": 1176, 'younger': 1177, 'your': 1178, 'yourself': 1179, '<|endoftext|>': 1180, '<|unk|>': 1181}\n",
      "1182\n"
     ]
    }
   ],
   "source": [
    "import re\n",
    "preprocessed = re.split(r'([,.?!;\"]|--|\\s)', text)\n",
    "preprocessed = [t for t in preprocessed if t.strip() != '']\n",
    "vocabset = sorted(set(preprocessed))\n",
    "vocabset+=[\"<|endoftext|>\",\"<|unk|>\"]\n",
    "vocab={ch:i for i,ch in enumerate(vocabset)}\n",
    "print(vocab)\n",
    "print(len(vocab))\n",
    "\n"
   ]
  },
  {
   "cell_type": "code",
   "execution_count": 42,
   "id": "2b697451",
   "metadata": {},
   "outputs": [],
   "source": [
    "#Without special context tokens\n",
    "class simpletokenizer:\n",
    "    def __init__(self,vocab):\n",
    "        self.word2idx = vocab\n",
    "        self.idx2word = {i:w for i,w in enumerate(vocab)}\n",
    "    \n",
    "    def encode(self,text):\n",
    "        preprocessed = re.split(r'([,.?!;\"]|--|\\s)', text)\n",
    "        preprocessed = [t for t in preprocessed if t.strip() != '']\n",
    "        result = [self.word2idx[i] for i in preprocessed] \n",
    "        return result\n",
    "    \n",
    "    def decode(self,token_ids):\n",
    "        result = [self.idx2word[i] for i in token_ids]\n",
    "        answer = ' '.join(result)\n",
    "        answer = re.sub(r'\\s([,.?!;\"]|--)', r'\\1', answer)\n",
    "    \n",
    "        return answer"
   ]
  },
  {
   "cell_type": "code",
   "execution_count": 44,
   "id": "d23a5de1",
   "metadata": {},
   "outputs": [
    {
     "name": "stdout",
     "output_type": "stream",
     "text": [
      "Hello I always rather cheap.\n"
     ]
    },
    {
     "ename": "KeyError",
     "evalue": "'Hello'",
     "output_type": "error",
     "traceback": [
      "\u001b[1;31m---------------------------------------------------------------------------\u001b[0m",
      "\u001b[1;31mKeyError\u001b[0m                                  Traceback (most recent call last)",
      "Cell \u001b[1;32mIn[44], line 5\u001b[0m\n\u001b[0;32m      2\u001b[0m \u001b[38;5;28mprint\u001b[39m(test)\n\u001b[0;32m      3\u001b[0m obj\u001b[38;5;241m=\u001b[39msimpletokenizer(vocab)\n\u001b[1;32m----> 5\u001b[0m encoded \u001b[38;5;241m=\u001b[39m \u001b[43mobj\u001b[49m\u001b[38;5;241;43m.\u001b[39;49m\u001b[43mencode\u001b[49m\u001b[43m(\u001b[49m\u001b[43mtest\u001b[49m\u001b[43m)\u001b[49m\n\u001b[0;32m      6\u001b[0m \u001b[38;5;28mprint\u001b[39m(obj\u001b[38;5;241m.\u001b[39mdecode(encoded))\n",
      "Cell \u001b[1;32mIn[42], line 10\u001b[0m, in \u001b[0;36msimpletokenizer.encode\u001b[1;34m(self, text)\u001b[0m\n\u001b[0;32m      8\u001b[0m preprocessed \u001b[38;5;241m=\u001b[39m re\u001b[38;5;241m.\u001b[39msplit(\u001b[38;5;124mr\u001b[39m\u001b[38;5;124m'\u001b[39m\u001b[38;5;124m([,.?!;\u001b[39m\u001b[38;5;124m\"\u001b[39m\u001b[38;5;124m]|--|\u001b[39m\u001b[38;5;124m\\\u001b[39m\u001b[38;5;124ms)\u001b[39m\u001b[38;5;124m'\u001b[39m, text)\n\u001b[0;32m      9\u001b[0m preprocessed \u001b[38;5;241m=\u001b[39m [t \u001b[38;5;28;01mfor\u001b[39;00m t \u001b[38;5;129;01min\u001b[39;00m preprocessed \u001b[38;5;28;01mif\u001b[39;00m t\u001b[38;5;241m.\u001b[39mstrip() \u001b[38;5;241m!=\u001b[39m \u001b[38;5;124m'\u001b[39m\u001b[38;5;124m'\u001b[39m]\n\u001b[1;32m---> 10\u001b[0m result \u001b[38;5;241m=\u001b[39m [\u001b[38;5;28;43mself\u001b[39;49m\u001b[38;5;241;43m.\u001b[39;49m\u001b[43mword2idx\u001b[49m\u001b[43m[\u001b[49m\u001b[43mi\u001b[49m\u001b[43m]\u001b[49m \u001b[38;5;28;01mfor\u001b[39;00m i \u001b[38;5;129;01min\u001b[39;00m preprocessed] \n\u001b[0;32m     11\u001b[0m \u001b[38;5;28;01mreturn\u001b[39;00m result\n",
      "\u001b[1;31mKeyError\u001b[0m: 'Hello'"
     ]
    }
   ],
   "source": [
    "test = \"Hello I always rather cheap.\"\n",
    "print(test)\n",
    "obj=simpletokenizer(vocab)\n",
    "\n",
    "encoded = obj.encode(test)\n",
    "print(obj.decode(encoded))"
   ]
  },
  {
   "cell_type": "code",
   "execution_count": 69,
   "id": "691f61bf",
   "metadata": {},
   "outputs": [],
   "source": [
    "#With special context tokens\n",
    "class simpletokenizerv2:\n",
    "    def __init__(self,vocab):\n",
    "        self.word2idx = vocab\n",
    "        self.idx2word = {i:w for i,w in enumerate(vocab)}\n",
    "    \n",
    "    def encode(self,text):\n",
    "        preprocessed = re.split(r'([,.?!;\"]|--|\\s)', text)\n",
    "        preprocessed = [t for t in preprocessed if t.strip() != '']\n",
    "        for i in range(len(preprocessed)):\n",
    "            if preprocessed[i] not in self.word2idx:\n",
    "                preprocessed[i] = \"<|unk|>\"\n",
    "        print(preprocessed)\n",
    "        result = [self.word2idx[i] for i in preprocessed] \n",
    "        return result\n",
    "    \n",
    "    def decode(self,token_ids):\n",
    "        result = [self.idx2word[i] for i in token_ids]\n",
    "        answer = ' '.join(result)\n",
    "        answer = re.sub(r'\\s([,.?!;\"]|--)', r'\\1', answer)\n",
    "    \n",
    "        return answer"
   ]
  },
  {
   "cell_type": "code",
   "execution_count": 71,
   "id": "76d1f53f",
   "metadata": {},
   "outputs": [
    {
     "name": "stdout",
     "output_type": "stream",
     "text": [
      "Hello, I always rather cheap. <|endoftext|> Hello, I always rather cheap.how are you?\n",
      "['<|unk|>', ',', 'I', 'always', 'rather', 'cheap', '.', '<|endoftext|>', '<|unk|>', ',', 'I', 'always', 'rather', 'cheap', '.', 'how', 'are', 'you', '?']\n",
      "[1181, 13, 65, 184, 862, 290, 15, 1180, 1181, 13, 65, 184, 862, 290, 15, 596, 203, 1174, 18]\n",
      "<|unk|>, I always rather cheap. <|endoftext|> <|unk|>, I always rather cheap. how are you?\n"
     ]
    }
   ],
   "source": [
    "test1 = \"Hello, I always rather cheap.\"\n",
    "test2 = \"Hello, I always rather cheap.how are you?\"\n",
    "test = ' <|endoftext|> '.join([test1,test2])\n",
    "print(test)\n",
    "obj=simpletokenizerv2(vocab)\n",
    "\n",
    "encoded = obj.encode(test)\n",
    "print(encoded)\n",
    "print(obj.decode(encoded))"
   ]
  },
  {
   "cell_type": "code",
   "execution_count": 82,
   "id": "d49dc22e",
   "metadata": {},
   "outputs": [],
   "source": [
    "import tiktoken\n",
    "tokenizer = tiktoken.get_encoding(\"gpt2\")"
   ]
  },
  {
   "cell_type": "code",
   "execution_count": 86,
   "id": "b08dab4e",
   "metadata": {},
   "outputs": [
    {
     "name": "stdout",
     "output_type": "stream",
     "text": [
      "[10814, 11, 703, 389, 345, 30, 220, 50256, 314, 716, 3734, 11, 621, 2584, 280, 0, 220, 50256, 220]\n"
     ]
    }
   ],
   "source": [
    "text = (\"Hey, how are you? <|endoftext|> I am fine, thankyou! <|endoftext|> \")\n",
    "int = tokenizer.encode(text,allowed_special={\"<|endoftext|>\"})\n",
    "print(int)"
   ]
  },
  {
   "cell_type": "code",
   "execution_count": 87,
   "id": "4a5fd665",
   "metadata": {},
   "outputs": [
    {
     "name": "stdout",
     "output_type": "stream",
     "text": [
      "Hey, how are you? <|endoftext|> I am fine, thankyou! <|endoftext|> \n"
     ]
    }
   ],
   "source": [
    "strs = tokenizer.decode(int)\n",
    "print(strs)"
   ]
  }
 ],
 "metadata": {
  "kernelspec": {
   "display_name": "Python 3",
   "language": "python",
   "name": "python3"
  },
  "language_info": {
   "codemirror_mode": {
    "name": "ipython",
    "version": 3
   },
   "file_extension": ".py",
   "mimetype": "text/x-python",
   "name": "python",
   "nbconvert_exporter": "python",
   "pygments_lexer": "ipython3",
   "version": "3.12.2"
  }
 },
 "nbformat": 4,
 "nbformat_minor": 5
}
