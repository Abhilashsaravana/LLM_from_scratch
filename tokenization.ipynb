{
 "cells": [
  {
   "cell_type": "markdown",
   "id": "0c067a4a",
   "metadata": {},
   "source": [
    "Reading in a story as text:\n"
   ]
  },
  {
   "cell_type": "code",
   "execution_count": 2,
   "id": "354ed468",
   "metadata": {},
   "outputs": [
    {
     "name": "stdout",
     "output_type": "stream",
     "text": [
      "20479\n",
      "I H\n"
     ]
    }
   ],
   "source": [
    "with open(\"the-verdict.txt\",\"r\",encoding=\"utf-8\") as f:\n",
    "    text = f.read()\n",
    "\n",
    "print(len(text))\n",
    "print(text[:3])  # Print the first 1000 characters to verify content"
   ]
  },
  {
   "cell_type": "markdown",
   "id": "64a4a3c1",
   "metadata": {},
   "source": [
    "Splitting the text using punctuation and spaces:"
   ]
  },
  {
   "cell_type": "code",
   "execution_count": 3,
   "id": "768c98ef",
   "metadata": {},
   "outputs": [
    {
     "name": "stdout",
     "output_type": "stream",
     "text": [
      "{'!': 0, '\"': 1, \"'\": 2, \"'Are\": 3, \"'It's\": 4, \"'coming'\": 5, \"'done'\": 6, \"'subject\": 7, \"'technique'\": 8, \"'way\": 9, '(I': 10, '(Though': 11, ')': 12, ',': 13, '--': 14, '.': 15, ':': 16, ';': 17, '?': 18, 'A': 19, 'Ah': 20, 'Among': 21, 'And': 22, 'Arrt': 23, 'As': 24, 'At': 25, 'Be': 26, 'Begin': 27, 'Burlington': 28, 'But': 29, 'By': 30, 'Carlo': 31, 'Chicago': 32, 'Claude': 33, 'Come': 34, 'Croft': 35, 'Croft)': 36, 'Destroyed': 37, 'Devonshire': 38, \"Don't\": 39, 'Dubarry_': 40, 'Emperors': 41, 'Florence': 42, 'For': 43, 'Gallery': 44, 'Gideon': 45, 'Gisburn': 46, \"Gisburn's\": 47, 'Gisburns': 48, 'Grafton': 49, 'Greek': 50, 'Grindle': 51, \"Grindle's\": 52, 'Grindle:': 53, 'Grindles': 54, 'HAD': 55, 'Had': 56, 'Hang': 57, 'Has': 58, 'He': 59, 'Her': 60, 'Hermia': 61, \"Hermia's\": 62, 'His': 63, 'How': 64, 'I': 65, \"I'd\": 66, \"I'll\": 67, \"I've\": 68, 'If': 69, 'In': 70, 'It': 71, \"It's\": 72, 'Jack': 73, \"Jack's\": 74, 'Jove': 75, 'Just': 76, 'Lord': 77, 'Made': 78, 'Miss': 79, \"Money's\": 80, 'Monte': 81, 'Moon-dancers': 82, 'Mr': 83, 'Mrs': 84, 'My': 85, 'Never': 86, 'No': 87, 'Now': 88, 'Nutley': 89, 'Of': 90, 'Oh': 91, 'On': 92, 'Once': 93, 'Only': 94, 'Or': 95, 'Perhaps': 96, 'Poor': 97, 'Professional': 98, 'Renaissance': 99, 'Rickham': 100, 'Riviera': 101, 'Rome': 102, 'Russian': 103, 'Sevres': 104, 'She': 105, \"She's\": 106, 'Stroud': 107, \"Stroud's\": 108, 'Strouds': 109, 'Suddenly': 110, 'That': 111, \"That's\": 112, 'The': 113, 'Then': 114, 'There': 115, 'There:': 116, 'They': 117, 'This': 118, 'Those': 119, 'Thwing': 120, \"Thwing's\": 121, 'Thwings': 122, 'To': 123, 'Usually': 124, 'Venetian': 125, 'Victor': 126, 'Was': 127, 'We': 128, 'Well': 129, 'What': 130, 'When': 131, 'Why': 132, 'Yes': 133, 'You': 134, '_I': 135, '_am_': 136, '_famille-verte_': 137, '_felt_': 138, '_has_': 139, '_have_': 140, '_jardiniere_': 141, '_mine_': 142, '_not_': 143, '_rose': 144, '_rs_': 145, '_that_': 146, '_the_': 147, '_was_': 148, '_were_': 149, 'a': 150, 'abdication': 151, 'able': 152, 'about': 153, 'above': 154, 'abruptly': 155, 'absolute': 156, 'absorbed': 157, 'absurdity': 158, 'academic': 159, 'accuse': 160, 'accustomed': 161, 'across': 162, 'activity': 163, 'add': 164, 'added': 165, 'admirers': 166, 'adopted': 167, 'adulation': 168, 'advance': 169, 'aesthetic': 170, 'affect': 171, 'afraid': 172, 'after': 173, 'afterward': 174, 'again': 175, 'ago': 176, 'ah': 177, 'air': 178, 'alive': 179, 'all': 180, 'almost': 181, 'alone': 182, 'along': 183, 'always': 184, 'amazement': 185, 'amid': 186, 'among': 187, 'amplest': 188, 'amusing': 189, 'an': 190, 'and': 191, 'another': 192, 'answer': 193, 'answered': 194, 'any': 195, 'anything': 196, 'anywhere': 197, 'apparent': 198, 'apparently': 199, 'appearance': 200, 'appeared': 201, 'appointed': 202, 'are': 203, 'arm': 204, 'arm-chair': 205, 'arm-chairs': 206, 'arms': 207, 'art': 208, 'articles': 209, 'artist': 210, 'as': 211, 'aside': 212, 'asked': 213, 'at': 214, 'atmosphere': 215, 'atom': 216, 'attack': 217, 'attention': 218, 'attitude': 219, 'audacities': 220, 'away': 221, 'awful': 222, 'axioms': 223, 'azaleas': 224, 'back': 225, 'background': 226, 'balance': 227, 'balancing': 228, 'balustraded': 229, 'basking': 230, 'bath-rooms': 231, 'be': 232, 'beaming': 233, 'bean-stalk': 234, 'bear': 235, 'beard': 236, 'beauty': 237, 'became': 238, 'because': 239, 'becoming': 240, 'bed': 241, 'been': 242, 'before': 243, 'began': 244, 'begun': 245, 'behind': 246, 'being': 247, 'believed': 248, 'beneath': 249, 'bespoke': 250, 'better': 251, 'between': 252, 'big': 253, 'bits': 254, 'bitterness': 255, 'blocked': 256, 'born': 257, 'borne': 258, 'boudoir': 259, 'bravura': 260, 'break': 261, 'breaking': 262, 'breathing': 263, 'bric-a-brac': 264, 'briefly': 265, 'brings': 266, 'bronzes': 267, 'brought': 268, 'brown': 269, 'brush': 270, 'bull': 271, 'business': 272, 'but': 273, 'buying': 274, 'by': 275, 'called': 276, 'came': 277, 'can': 278, 'canvas': 279, 'canvases': 280, 'cards': 281, 'care': 282, 'career': 283, 'caught': 284, 'central': 285, 'chair': 286, 'chap': 287, 'characteristic': 288, 'charming': 289, 'cheap': 290, 'check': 291, 'cheeks': 292, 'chest': 293, 'chimney-piece': 294, 'chucked': 295, 'cigar': 296, 'cigarette': 297, 'cigars': 298, 'circulation': 299, 'circumstance': 300, \"circus-clown's\": 301, 'claimed': 302, 'clasping': 303, 'clear': 304, 'cleverer': 305, 'close': 306, 'clue': 307, 'coat': 308, 'collapsed': 309, 'colour': 310, 'come': 311, 'comfortable': 312, 'coming': 313, 'companion': 314, 'compared': 315, 'complex': 316, 'confident': 317, 'congesting': 318, 'conjugal': 319, 'constraint': 320, 'consummate': 321, 'contended': 322, 'continued': 323, 'corner': 324, 'corrected': 325, 'could': 326, \"couldn't\": 327, 'count': 328, 'countenance': 329, 'couple': 330, 'course': 331, 'covered': 332, 'craft': 333, 'cried': 334, 'crossed': 335, 'crowned': 336, 'crumbled': 337, 'cry': 338, 'cured': 339, 'curiosity': 340, 'curious': 341, 'current': 342, 'curtains': 343, 'dabble': 344, 'damask': 345, 'dark': 346, 'dashed': 347, 'day': 348, 'days': 349, 'dead': 350, 'deadening': 351, 'dear': 352, 'deep': 353, \"deerhound's\": 354, 'degree': 355, 'delicate': 356, 'demand': 357, 'denied': 358, 'deploring': 359, 'deprecating': 360, 'deprecatingly': 361, 'desire': 362, 'destroyed': 363, 'destruction': 364, 'desultory': 365, 'detail': 366, 'diagnosis': 367, 'did': 368, \"didn't\": 369, 'died': 370, 'dim': 371, 'dimmest': 372, 'dingy': 373, 'dining-room': 374, 'disarming': 375, 'discovery': 376, 'discrimination': 377, 'discussion': 378, 'disdain': 379, 'disdained': 380, 'disease': 381, 'disguised': 382, 'display': 383, 'dissatisfied': 384, 'distinguished': 385, 'distract': 386, 'divert': 387, 'do': 388, \"doesn't\": 389, 'doing': 390, 'domestic': 391, \"don't\": 392, 'done': 393, 'donkey': 394, 'down': 395, 'dozen': 396, 'dragged': 397, 'drawing-room': 398, 'drawing-rooms': 399, 'drawn': 400, 'dress-closets': 401, 'drew': 402, 'dropped': 403, 'each': 404, 'earth': 405, 'ease': 406, 'easel': 407, 'easy': 408, 'echoed': 409, 'economy': 410, 'effect': 411, 'effects': 412, 'efforts': 413, 'egregious': 414, 'eighteenth-century': 415, 'elbow': 416, 'elegant': 417, 'else': 418, 'embarrassed': 419, 'enabled': 420, 'end': 421, 'endless': 422, 'enjoy': 423, 'enlightenment:': 424, 'enough': 425, 'ensuing': 426, 'equally': 427, 'equanimity': 428, 'escape': 429, 'established': 430, 'etching': 431, 'even': 432, 'event': 433, 'ever': 434, 'everlasting': 435, 'every': 436, 'exasperated': 437, 'except': 438, 'excuse': 439, 'excusing': 440, 'existed': 441, 'expected': 442, 'exquisite': 443, 'exquisitely': 444, 'extenuation': 445, 'exterminating': 446, 'extracting': 447, 'eye': 448, 'eyebrows': 449, 'eyes': 450, 'eyes:': 451, 'face': 452, 'faces': 453, 'fact': 454, 'faded': 455, 'failed': 456, 'failure': 457, 'fair': 458, 'faith': 459, 'false': 460, 'familiar': 461, 'fancy': 462, 'fashionable': 463, 'fate': 464, 'feather': 465, 'feet': 466, 'fell': 467, 'fellow': 468, 'felt': 469, 'few': 470, 'fewer': 471, 'finality': 472, 'find': 473, 'fingers': 474, 'first': 475, 'fit': 476, 'fitting': 477, 'five': 478, 'flash': 479, 'flashed': 480, 'florid': 481, 'flowers': 482, 'fluently': 483, 'flung': 484, 'follow': 485, 'followed': 486, 'fond': 487, 'footstep': 488, 'for': 489, 'forced': 490, 'forcing': 491, 'forehead': 492, 'foreign': 493, 'foreseen': 494, 'forgive': 495, 'forgotten': 496, 'form': 497, 'formed': 498, 'forming': 499, 'forward': 500, 'fostered': 501, 'found': 502, 'foundations': 503, 'fragment': 504, 'fragments': 505, 'frame': 506, 'frames': 507, 'frequently': 508, \"friend's\": 509, 'from': 510, 'full': 511, 'fullest': 512, 'furiously': 513, 'furrowed': 514, 'garlanded': 515, 'garlands': 516, 'gave': 517, 'genial': 518, 'genius': 519, 'gesture': 520, 'get': 521, 'getting': 522, 'give': 523, 'given': 524, 'glad': 525, 'glanced': 526, 'glimpse': 527, 'gloried': 528, 'glory': 529, 'go': 530, 'going': 531, 'gone': 532, 'good': 533, 'good-breeding': 534, 'good-humoured': 535, 'got': 536, 'grace': 537, 'gradually': 538, 'gray': 539, 'grayish': 540, 'great': 541, 'greatest': 542, 'greatness': 543, 'grew': 544, 'groping': 545, 'growing': 546, 'had': 547, \"hadn't\": 548, 'hair': 549, 'half': 550, 'half-light': 551, 'half-mechanically': 552, 'hall': 553, 'hand': 554, 'hands': 555, 'handsome': 556, 'hanging': 557, 'happen': 558, 'happened': 559, 'hard': 560, 'hardly': 561, 'have': 562, \"haven't\": 563, 'having': 564, 'he': 565, \"he'd\": 566, \"he's\": 567, 'head': 568, 'hear': 569, 'heard': 570, 'heart': 571, 'height': 572, 'her': 573, 'here': 574, 'hermit': 575, 'herself': 576, 'hesitations': 577, 'hide': 578, 'high': 579, 'him': 580, 'him:': 581, 'himself': 582, 'hint': 583, 'his': 584, 'history': 585, 'holding': 586, 'home': 587, 'honour': 588, 'hooded': 589, 'hostess': 590, 'hostess:': 591, 'hot-house': 592, 'hour': 593, 'hours': 594, 'house': 595, 'how': 596, \"how'\": 597, 'hung': 598, 'husband': 599, \"husband's\": 600, 'idea': 601, 'idle': 602, 'idling': 603, 'if': 604, 'immediately': 605, 'in': 606, 'incense': 607, 'indifferent': 608, 'inevitable': 609, 'inevitably': 610, 'inflexible': 611, 'insensible': 612, 'insignificant': 613, 'instinctively': 614, 'instructive': 615, 'interesting': 616, 'into': 617, 'ironic': 618, 'irony': 619, 'irrelevance': 620, 'irrevocable': 621, 'is': 622, 'it': 623, \"it's\": 624, 'its': 625, 'itself': 626, 'jealousy': 627, 'just': 628, 'keep': 629, 'kept': 630, 'kind': 631, 'knees': 632, 'knew': 633, 'know': 634, 'known_': 635, 'laid': 636, 'lair': 637, 'landing': 638, 'language': 639, 'last': 640, 'late': 641, 'later': 642, 'latter': 643, \"latter's\": 644, 'laugh': 645, 'laugh:': 646, 'laughed': 647, 'lay': 648, 'leading': 649, 'lean': 650, 'learned': 651, 'least': 652, 'leathery:': 653, 'leave': 654, 'led': 655, 'left': 656, 'leisure': 657, 'lends': 658, 'lent': 659, 'let': 660, 'lies': 661, 'life': 662, 'life-likeness': 663, 'lift': 664, 'lifted': 665, 'light': 666, 'lightly': 667, 'like': 668, 'liked': 669, 'line': 670, 'lines': 671, 'lingered': 672, 'lips': 673, 'lit': 674, 'little': 675, 'little:': 676, 'live': 677, 'loathing': 678, 'long': 679, 'longed': 680, 'longer': 681, 'look': 682, 'looked': 683, 'looking': 684, 'lose': 685, 'loss': 686, 'lounging': 687, 'lovely': 688, 'lucky': 689, 'lump': 690, 'luncheon-table': 691, 'luxury': 692, 'lying': 693, 'made': 694, 'make': 695, 'man': 696, 'manage': 697, 'managed': 698, 'mantel-piece': 699, 'marble': 700, 'married': 701, 'may': 702, 'me': 703, 'meant': 704, 'mediocrity': 705, 'medium': 706, 'mentioned': 707, 'mere': 708, 'merely': 709, 'met': 710, 'might': 711, 'mighty': 712, \"millionaire's\": 713, 'mine': 714, 'mine:': 715, 'minute': 716, 'minutes': 717, 'mirrors': 718, 'modest': 719, 'modesty': 720, 'moment': 721, 'money': 722, 'monumental': 723, 'mood': 724, 'morbidly': 725, 'more': 726, 'most': 727, 'mourn': 728, 'mourned': 729, 'moustache': 730, 'moved': 731, 'much': 732, 'muddling': 733, 'multiplied': 734, 'murmur': 735, 'muscles': 736, 'must': 737, 'my': 738, 'myself': 739, 'mysterious': 740, 'naive': 741, 'near': 742, 'nearly': 743, 'negatived': 744, 'nervous': 745, 'nervousness': 746, 'neutral': 747, 'never': 748, 'next': 749, 'no': 750, 'none': 751, 'not': 752, 'note': 753, 'nothing': 754, 'now': 755, 'nymphs': 756, 'oak': 757, 'obituary': 758, 'object': 759, 'objects': 760, 'occurred': 761, 'oddly': 762, 'of': 763, 'off': 764, 'often': 765, 'oh': 766, 'old': 767, 'on': 768, 'once': 769, 'one': 770, 'ones': 771, 'only': 772, 'onto': 773, 'open': 774, 'or': 775, 'other': 776, 'our': 777, 'ourselves': 778, 'out': 779, 'out:': 780, 'outline': 781, 'oval': 782, 'over': 783, 'own': 784, 'packed': 785, 'paid': 786, 'paint': 787, 'painted': 788, 'painter': 789, 'painting': 790, 'pale': 791, 'paled': 792, 'palm-trees': 793, 'panel': 794, 'panelling': 795, 'pardonable': 796, 'pardoned': 797, 'part': 798, 'passages': 799, 'passing': 800, 'past': 801, 'pastels': 802, 'pathos': 803, 'patient': 804, 'people': 805, 'perceptible': 806, 'perfect': 807, 'persistence': 808, 'persuasively': 809, 'phrase': 810, 'picture': 811, 'pictures': 812, 'pines': 813, 'pink': 814, 'place': 815, 'placed': 816, 'plain': 817, 'platitudes': 818, 'pleased': 819, 'pockets': 820, 'point': 821, 'poised': 822, 'poor': 823, 'portrait': 824, 'posing': 825, 'possessed': 826, 'poverty': 827, 'predicted': 828, 'preliminary': 829, 'presenting': 830, 'prestidigitation': 831, 'pretty': 832, 'previous': 833, 'price': 834, 'pride': 835, 'pride:': 836, 'princely': 837, 'prism': 838, 'problem': 839, 'proclaiming': 840, 'prodigious': 841, 'profusion': 842, 'protest': 843, 'prove': 844, 'public': 845, 'purblind': 846, 'purely': 847, 'pushed': 848, 'put': 849, 'qualities': 850, 'quality': 851, 'queerly': 852, 'question': 853, 'question:': 854, 'quickly': 855, 'quietly': 856, 'quite': 857, 'quote': 858, 'rain': 859, 'raised': 860, 'random': 861, 'rather': 862, 'real': 863, 'really': 864, 'reared': 865, 'reason': 866, 'reassurance': 867, 'recovering': 868, 'recreated': 869, 'reflected': 870, 'reflection': 871, 'regrets': 872, 'relatively': 873, 'remained': 874, 'remember': 875, 'reminded': 876, 'repeating': 877, 'represented': 878, 'reproduction': 879, 'resented': 880, 'resolve': 881, 'resources': 882, 'rest': 883, 'rich': 884, 'ridiculous': 885, 'robbed': 886, 'romantic': 887, 'room': 888, 'rose': 889, 'rule': 890, 'run': 891, 'said': 892, 'said:': 893, 'same': 894, 'satisfaction': 895, 'satisfaction:': 896, 'savour': 897, 'saw': 898, 'say': 899, 'say:': 900, 'saying': 901, 'says': 902, 'scorn': 903, 'scornful': 904, 'secret': 905, 'see': 906, 'seemed': 907, 'seen': 908, 'self-confident': 909, 'send': 910, 'sensation': 911, 'sensitive': 912, 'sent': 913, 'serious': 914, 'set': 915, 'sex': 916, 'shade': 917, 'shaking': 918, 'shall': 919, 'she': 920, \"she's\": 921, 'shirked': 922, 'short': 923, 'should': 924, 'shoulder': 925, 'shoulders': 926, 'show': 927, 'showed': 928, 'showy': 929, 'shrug': 930, 'shrugged': 931, 'sight': 932, 'sign': 933, 'silent': 934, 'silver': 935, 'similar': 936, 'simpleton': 937, 'simplifications': 938, 'simply': 939, 'since': 940, 'single': 941, 'sitter': 942, 'sitters': 943, 'sketch': 944, 'skill': 945, 'slight': 946, 'slightly': 947, 'slowly:': 948, 'small': 949, 'smile': 950, 'smiling': 951, 'sneer': 952, 'so': 953, 'solace': 954, 'some': 955, 'somebody': 956, 'something': 957, 'spacious': 958, 'spaniel': 959, 'speaking-tubes': 960, 'speculations': 961, 'spite': 962, 'splash': 963, 'square': 964, 'stairs': 965, 'stammer': 966, 'stand': 967, 'standing': 968, 'started': 969, 'stay': 970, 'still': 971, 'stocked': 972, 'stood': 973, 'stopped': 974, 'stopping': 975, 'straddling': 976, 'straight': 977, 'strain': 978, 'straining': 979, 'strange': 980, 'straw': 981, 'stream': 982, 'stroke': 983, 'strokes': 984, 'strolled': 985, 'strongest': 986, 'strongly': 987, 'struck': 988, 'studio': 989, 'stuff': 990, 'subject': 991, 'substantial': 992, 'suburban': 993, 'such': 994, 'suddenly': 995, 'suffered': 996, 'sugar': 997, 'suggested': 998, 'sunburn': 999, 'sunburnt': 1000, 'sunlit': 1001, 'superb': 1002, 'sure': 1003, 'surest': 1004, 'surface': 1005, 'surprise': 1006, 'surprised': 1007, 'surrounded': 1008, 'suspected': 1009, 'sweetly': 1010, 'sweetness': 1011, 'swelling': 1012, 'swept': 1013, 'swum': 1014, 'table': 1015, 'take': 1016, 'taken': 1017, 'talking': 1018, 'tea': 1019, 'tears': 1020, 'technicalities': 1021, 'tell': 1022, 'tells': 1023, 'tempting': 1024, 'terra-cotta': 1025, 'terrace': 1026, 'terraces': 1027, 'terribly': 1028, 'than': 1029, 'that': 1030, 'the': 1031, 'their': 1032, 'them': 1033, 'then': 1034, 'there': 1035, \"there's\": 1036, 'therefore': 1037, 'they': 1038, \"they're\": 1039, 'thin': 1040, 'thing': 1041, 'things': 1042, 'think': 1043, 'this': 1044, 'thither': 1045, 'those': 1046, 'though': 1047, 'thought': 1048, 'thought:': 1049, 'three': 1050, 'threshold': 1051, 'threw': 1052, 'through': 1053, 'throwing': 1054, 'tie': 1055, 'till': 1056, 'time': 1057, 'timorously': 1058, 'tinge': 1059, 'tips': 1060, 'tired': 1061, 'to': 1062, 'told': 1063, 'tone': 1064, 'tones': 1065, 'too': 1066, 'took': 1067, 'tottering': 1068, 'touched': 1069, 'toward': 1070, 'trace': 1071, 'trade': 1072, 'transmute': 1073, 'traps': 1074, 'travelled': 1075, 'tribute': 1076, 'tributes': 1077, 'tricks': 1078, 'tried': 1079, 'trouser-presses': 1080, 'true': 1081, 'truth': 1082, 'turned': 1083, 'twenty': 1084, 'twenty-four': 1085, 'twice': 1086, 'twirling': 1087, 'unaccountable': 1088, 'uncertain': 1089, 'under': 1090, 'underlay': 1091, 'underneath': 1092, 'understand': 1093, 'unexpected': 1094, 'untouched': 1095, 'unusual': 1096, 'up': 1097, 'up-stream': 1098, 'upon': 1099, 'upset': 1100, 'upstairs': 1101, 'us': 1102, 'used': 1103, 'usual': 1104, 'value': 1105, 'varnishing': 1106, 'vases': 1107, 'veins': 1108, 'velveteen': 1109, 'very': 1110, 'villa': 1111, 'vindicated': 1112, 'virtuosity': 1113, 'vista': 1114, 'vocation': 1115, 'voice': 1116, 'wall': 1117, 'wander': 1118, 'want': 1119, 'wanted': 1120, 'wants': 1121, 'was': 1122, \"wasn't\": 1123, 'watched': 1124, 'watching': 1125, 'water-colour': 1126, 'waves': 1127, 'way': 1128, 'weekly': 1129, 'weeks': 1130, \"weeks'\": 1131, 'welcome': 1132, 'went': 1133, 'were': 1134, 'what': 1135, 'when': 1136, 'whenever': 1137, 'where': 1138, 'which': 1139, 'while': 1140, 'white': 1141, 'white-panelled': 1142, 'who': 1143, 'whole': 1144, 'whom)': 1145, 'why': 1146, 'wide': 1147, 'widow': 1148, 'wife': 1149, \"wife's\": 1150, 'wild': 1151, 'wincing': 1152, 'window-curtains': 1153, 'wish': 1154, 'with': 1155, 'without': 1156, \"wits'\": 1157, 'woman': 1158, 'women': 1159, 'women:': 1160, \"won't\": 1161, 'wonder': 1162, 'wondered': 1163, 'word': 1164, 'work': 1165, 'working': 1166, 'worth': 1167, 'would': 1168, \"wouldn't\": 1169, 'year': 1170, 'years': 1171, 'yellow': 1172, 'yet': 1173, 'you': 1174, \"you'd\": 1175, \"you're\": 1176, 'younger': 1177, 'your': 1178, 'yourself': 1179, '<|endoftext|>': 1180, '<|unk|>': 1181}\n",
      "1182\n"
     ]
    }
   ],
   "source": [
    "import re\n",
    "preprocessed = re.split(r'([,.?!;\"]|--|\\s)', text)\n",
    "preprocessed = [t for t in preprocessed if t.strip() != '']\n",
    "vocabset = sorted(set(preprocessed))\n",
    "vocabset+=[\"<|endoftext|>\",\"<|unk|>\"]\n",
    "vocab={ch:i for i,ch in enumerate(vocabset)}\n",
    "print(vocab)\n",
    "print(len(vocab))\n",
    "\n"
   ]
  },
  {
   "cell_type": "markdown",
   "id": "c6537c0a",
   "metadata": {},
   "source": [
    "Implementing a tokenizer with/without special context tokens, split on words:"
   ]
  },
  {
   "cell_type": "code",
   "execution_count": 4,
   "id": "2b697451",
   "metadata": {},
   "outputs": [],
   "source": [
    "#Without special context tokens\n",
    "class simpletokenizer:\n",
    "    def __init__(self,vocab):\n",
    "        self.word2idx = vocab\n",
    "        self.idx2word = {i:w for i,w in enumerate(vocab)}\n",
    "    \n",
    "    def encode(self,text):\n",
    "        preprocessed = re.split(r'([,.?!;\"]|--|\\s)', text)\n",
    "        preprocessed = [t for t in preprocessed if t.strip() != '']\n",
    "        result = [self.word2idx[i] for i in preprocessed] \n",
    "        return result\n",
    "    \n",
    "    def decode(self,token_ids):\n",
    "        result = [self.idx2word[i] for i in token_ids]\n",
    "        answer = ' '.join(result)\n",
    "        answer = re.sub(r'\\s([,.?!;\"]|--)', r'\\1', answer)\n",
    "    \n",
    "        return answer"
   ]
  },
  {
   "cell_type": "code",
   "execution_count": 5,
   "id": "d23a5de1",
   "metadata": {},
   "outputs": [
    {
     "name": "stdout",
     "output_type": "stream",
     "text": [
      "Hello I always rather cheap.\n"
     ]
    },
    {
     "ename": "KeyError",
     "evalue": "'Hello'",
     "output_type": "error",
     "traceback": [
      "\u001b[1;31m---------------------------------------------------------------------------\u001b[0m",
      "\u001b[1;31mKeyError\u001b[0m                                  Traceback (most recent call last)",
      "Cell \u001b[1;32mIn[5], line 5\u001b[0m\n\u001b[0;32m      2\u001b[0m \u001b[38;5;28mprint\u001b[39m(test)\n\u001b[0;32m      3\u001b[0m obj\u001b[38;5;241m=\u001b[39msimpletokenizer(vocab)\n\u001b[1;32m----> 5\u001b[0m encoded \u001b[38;5;241m=\u001b[39m \u001b[43mobj\u001b[49m\u001b[38;5;241;43m.\u001b[39;49m\u001b[43mencode\u001b[49m\u001b[43m(\u001b[49m\u001b[43mtest\u001b[49m\u001b[43m)\u001b[49m\n\u001b[0;32m      6\u001b[0m \u001b[38;5;28mprint\u001b[39m(obj\u001b[38;5;241m.\u001b[39mdecode(encoded))\n",
      "Cell \u001b[1;32mIn[4], line 10\u001b[0m, in \u001b[0;36msimpletokenizer.encode\u001b[1;34m(self, text)\u001b[0m\n\u001b[0;32m      8\u001b[0m preprocessed \u001b[38;5;241m=\u001b[39m re\u001b[38;5;241m.\u001b[39msplit(\u001b[38;5;124mr\u001b[39m\u001b[38;5;124m'\u001b[39m\u001b[38;5;124m([,.?!;\u001b[39m\u001b[38;5;124m\"\u001b[39m\u001b[38;5;124m]|--|\u001b[39m\u001b[38;5;124m\\\u001b[39m\u001b[38;5;124ms)\u001b[39m\u001b[38;5;124m'\u001b[39m, text)\n\u001b[0;32m      9\u001b[0m preprocessed \u001b[38;5;241m=\u001b[39m [t \u001b[38;5;28;01mfor\u001b[39;00m t \u001b[38;5;129;01min\u001b[39;00m preprocessed \u001b[38;5;28;01mif\u001b[39;00m t\u001b[38;5;241m.\u001b[39mstrip() \u001b[38;5;241m!=\u001b[39m \u001b[38;5;124m'\u001b[39m\u001b[38;5;124m'\u001b[39m]\n\u001b[1;32m---> 10\u001b[0m result \u001b[38;5;241m=\u001b[39m [\u001b[38;5;28;43mself\u001b[39;49m\u001b[38;5;241;43m.\u001b[39;49m\u001b[43mword2idx\u001b[49m\u001b[43m[\u001b[49m\u001b[43mi\u001b[49m\u001b[43m]\u001b[49m \u001b[38;5;28;01mfor\u001b[39;00m i \u001b[38;5;129;01min\u001b[39;00m preprocessed] \n\u001b[0;32m     11\u001b[0m \u001b[38;5;28;01mreturn\u001b[39;00m result\n",
      "\u001b[1;31mKeyError\u001b[0m: 'Hello'"
     ]
    }
   ],
   "source": [
    "test = \"Hello I always rather cheap.\"\n",
    "print(test)\n",
    "obj=simpletokenizer(vocab)\n",
    "\n",
    "encoded = obj.encode(test)\n",
    "print(obj.decode(encoded))"
   ]
  },
  {
   "cell_type": "code",
   "execution_count": 6,
   "id": "691f61bf",
   "metadata": {},
   "outputs": [],
   "source": [
    "#With special context tokens\n",
    "class simpletokenizerv2:\n",
    "    def __init__(self,vocab):\n",
    "        self.word2idx = vocab\n",
    "        self.idx2word = {i:w for i,w in enumerate(vocab)}\n",
    "    \n",
    "    def encode(self,text):\n",
    "        preprocessed = re.split(r'([,.?!;\"]|--|\\s)', text)\n",
    "        preprocessed = [t for t in preprocessed if t.strip() != '']\n",
    "        for i in range(len(preprocessed)):\n",
    "            if preprocessed[i] not in self.word2idx:\n",
    "                preprocessed[i] = \"<|unk|>\"\n",
    "        print(preprocessed)\n",
    "        result = [self.word2idx[i] for i in preprocessed] \n",
    "        return result\n",
    "    \n",
    "    def decode(self,token_ids):\n",
    "        result = [self.idx2word[i] for i in token_ids]\n",
    "        answer = ' '.join(result)\n",
    "        answer = re.sub(r'\\s([,.?!;\"]|--)', r'\\1', answer)\n",
    "    \n",
    "        return answer"
   ]
  },
  {
   "cell_type": "code",
   "execution_count": 7,
   "id": "76d1f53f",
   "metadata": {},
   "outputs": [
    {
     "name": "stdout",
     "output_type": "stream",
     "text": [
      "Hello, I always rather cheap. <|endoftext|> Hello, I always rather cheap.how are you?\n",
      "['<|unk|>', ',', 'I', 'always', 'rather', 'cheap', '.', '<|endoftext|>', '<|unk|>', ',', 'I', 'always', 'rather', 'cheap', '.', 'how', 'are', 'you', '?']\n",
      "[1181, 13, 65, 184, 862, 290, 15, 1180, 1181, 13, 65, 184, 862, 290, 15, 596, 203, 1174, 18]\n",
      "<|unk|>, I always rather cheap. <|endoftext|> <|unk|>, I always rather cheap. how are you?\n"
     ]
    }
   ],
   "source": [
    "test1 = \"Hello, I always rather cheap.\"\n",
    "test2 = \"Hello, I always rather cheap.how are you?\"\n",
    "test = ' <|endoftext|> '.join([test1,test2])\n",
    "print(test)\n",
    "obj=simpletokenizerv2(vocab)\n",
    "\n",
    "encoded = obj.encode(test)\n",
    "print(encoded)\n",
    "print(obj.decode(encoded))"
   ]
  },
  {
   "cell_type": "markdown",
   "id": "06fdd982",
   "metadata": {},
   "source": [
    "Implementing Byte Pair encoding:"
   ]
  },
  {
   "cell_type": "code",
   "execution_count": 8,
   "id": "d49dc22e",
   "metadata": {},
   "outputs": [],
   "source": [
    "import tiktoken\n",
    "tokenizer = tiktoken.get_encoding(\"gpt2\")"
   ]
  },
  {
   "cell_type": "code",
   "execution_count": 9,
   "id": "b08dab4e",
   "metadata": {},
   "outputs": [
    {
     "name": "stdout",
     "output_type": "stream",
     "text": [
      "[10814, 11, 703, 389, 345, 30, 220, 50256, 314, 716, 3734, 11, 621, 2584, 280, 0, 220, 50256, 220]\n",
      "Hey, how are you? <|endoftext|> I am fine, thankyou! <|endoftext|> \n"
     ]
    }
   ],
   "source": [
    "text = (\"Hey, how are you? <|endoftext|> I am fine, thankyou! <|endoftext|> \")\n",
    "int = tokenizer.encode(text,allowed_special={\"<|endoftext|>\"})\n",
    "print(int)\n",
    "strs = tokenizer.decode(int)\n",
    "print(strs)"
   ]
  },
  {
   "cell_type": "markdown",
   "id": "58ec88a8",
   "metadata": {},
   "source": [
    "<b>\n",
    "Implementing input-output pairs:"
   ]
  },
  {
   "cell_type": "code",
   "execution_count": 10,
   "id": "4a5fd665",
   "metadata": {},
   "outputs": [
    {
     "name": "stdout",
     "output_type": "stream",
     "text": [
      "[40, 367, 2885, 1464, 1807, 3619, 402, 271, 10899, 2138, 257, 7026, 15632, 438, 2016, 257, 922, 5891, 1576, 438, 568, 340, 373, 645, 1049, 5975, 284, 502, 284, 3285, 326, 11, 287, 262, 6001, 286, 465, 13476, 11, 339, 550, 5710, 465, 12036, 11, 6405, 257, 5527, 27075, 11, 290, 4920, 2241, 287, 257, 4489, 64, 319, 262, 34686, 41976, 13, 357, 10915, 314, 2138, 1807, 340, 561, 423, 587, 10598, 393, 28537, 2014, 198, 198, 1, 464, 6001, 286, 465, 13476, 1, 438, 5562, 373, 644, 262, 1466, 1444, 340, 13, 314, 460, 3285, 9074, 13, 46606, 536, 5469, 438, 14363, 938, 4842, 1650, 353, 438, 2934, 489, 3255, 465, 48422, 540, 450, 67, 3299, 13, 366, 5189, 1781, 340, 338, 1016, 284, 3758, 262, 1988, 286, 616, 4286, 705, 1014, 510, 26, 475, 314, 836, 470, 892, 286, 326, 11, 1770, 13, 8759, 2763, 438, 1169, 2994, 284, 943, 17034, 318, 477, 314, 892, 286, 526, 383, 1573, 11, 319, 9074, 13, 536, 5469, 338, 11914, 11, 33096, 663, 4808, 3808, 62, 355, 996, 484, 547, 12548, 287, 281, 13079, 410, 12523, 286, 22353, 13, 843, 340, 373, 407, 691, 262, 9074, 13, 536, 48819, 508, 25722, 276, 13, 11161, 407, 262, 40123, 18113, 544, 9325, 701, 11, 379, 262, 938, 402, 1617, 261, 12917, 905, 11, 5025, 502, 878, 402, 271, 10899, 338, 366, 31640, 12, 67, 20811, 1, 284, 910, 11, 351, 10953, 287, 607, 2951, 25, 366, 1135, 2236, 407, 804, 2402, 663, 588, 757, 13984, 198, 198, 5779, 28112, 10197, 832, 262, 46475, 286, 18113, 544, 338, 10953, 314, 2936, 1498, 284, 1986, 262, 1109, 351, 1602, 11227, 414, 13, 23676, 3619, 402, 271, 10899, 0, 383, 1466, 550, 925, 683, 438, 270, 373, 15830, 326, 484, 815, 25722, 683, 13, 9754, 465, 898, 1714, 7380, 30090, 547, 2982, 11, 290, 287, 465, 898, 3292, 8941, 257, 4636, 28582, 13, 18612, 35394, 30, 8673, 13, 1002, 340, 547, 11, 262, 15393, 286, 262, 5977, 373, 29178, 3474, 416, 1310, 40559, 11959, 1636, 11, 508, 11, 287, 477, 922, 4562, 11, 3181, 503, 287, 262, 37090, 257, 845, 22665, 366, 672, 270, 2838, 1, 319, 3619, 438, 505, 286, 883, 905, 88, 6685, 42070, 351, 4738, 6276, 871, 326, 314, 423, 2982, 357, 40, 1839, 470, 910, 416, 4150, 8, 3688, 284, 402, 271, 10899, 338, 12036, 13, 843, 523, 438, 14363, 10568, 852, 5729, 11331, 18893, 540, 438, 1169, 5114, 11835, 3724, 503, 11, 290, 11, 355, 9074, 13, 536, 5469, 550, 11001, 11, 262, 2756, 286, 366, 38, 271, 10899, 82, 1, 1816, 510, 13, 198, 198, 1026, 373, 407, 10597, 1115, 812, 1568, 326, 11, 287, 262, 1781, 286, 257, 1178, 2745, 6, 4686, 1359, 319, 262, 34686, 41976, 11, 340, 6451, 5091, 284, 502, 284, 4240, 1521, 402, 271, 10899, 550, 1813, 510, 465, 12036, 13, 1550, 14580, 11, 340, 1107, 373, 257, 29850, 1917, 13, 1675, 24456, 465, 3656, 561, 423, 587, 1165, 2562, 438, 14363, 3148, 1650, 1010, 550, 587, 6699, 262, 1540, 558, 286, 2282, 326, 9074, 13, 402, 271, 10899, 550, 366, 7109, 14655, 683, 866, 526, 1114, 9074, 13, 402, 271, 10899, 438, 292, 884, 438, 18108, 407, 11196, 10597, 3016, 257, 614, 706, 3619, 338, 10568, 550, 587, 2077, 13, 632, 1244, 307, 326, 339, 550, 6405, 607, 438, 20777, 339, 8288, 465, 10152, 438, 13893, 339, 1422, 470, 765, 284, 467, 319, 12036, 26, 475, 340, 561, 423, 587, 1327, 284, 5879, 326, 339, 550, 1813, 510, 465, 12036, 780, 339, 550, 6405, 607, 13, 198, 198, 5189, 1781, 11, 611, 673, 550, 407, 17901, 683, 866, 11, 673, 550, 8603, 11, 355, 4544, 9325, 701, 42397, 11, 4054, 284, 366, 26282, 683, 510, 1, 438, 7091, 550, 407, 2957, 683, 736, 284, 262, 1396, 417, 13, 1675, 1234, 262, 14093, 656, 465, 1021, 757, 438, 10919, 257, 410, 5040, 329, 257, 3656, 0, 887, 9074, 13, 402, 271, 10899, 4120, 284, 423, 595, 67, 1328, 340, 438, 392, 314, 2936, 340, 1244, 307, 3499, 284, 1064, 503, 1521, 13, 198, 198, 464, 748, 586, 652, 1204, 286, 262, 34686, 41976, 37733, 2346, 284, 884, 14177, 8233, 1020, 5768, 26, 290, 1719, 11, 319, 616, 835, 284, 22489, 40089, 11, 4978, 257, 19350, 286, 3619, 338, 3652, 436, 81, 5286, 8812, 2114, 1022, 262, 279, 1127, 11, 314, 550, 3589, 28068, 294, 1555, 262, 1306, 1110, 13, 198, 198, 40, 1043, 262, 3155, 379, 8887, 11061, 511, 18057, 12, 83, 6037, 26, 290, 9074, 13, 402, 271, 10899, 338, 7062, 373, 523, 2429, 498, 326, 11, 287, 262, 29543, 2745, 11, 314, 4752, 340, 6777, 13, 632, 373, 407, 326, 616, 2583, 408, 373, 366, 47914, 1298, 319, 326, 966, 314, 714, 423, 1813, 4544, 9325, 701, 262, 40830, 12719, 3874, 13, 632, 373, 655, 780, 673, 373, 4808, 1662, 62, 3499, 438, 361, 314, 743, 307, 41746, 12004, 262, 6473, 438, 5562, 314, 1043, 607, 523, 13, 1114, 3619, 11, 477, 465, 1204, 11, 550, 587, 11191, 416, 3499, 1466, 25, 484, 550, 26546, 1068, 465, 1242, 11, 340, 550, 587, 302, 1144, 287, 262, 3024, 12, 4803, 286, 511, 512, 1741, 13, 843, 340, 373, 4361, 5048, 425, 284, 3465, 644, 1245, 262, 366, 25124, 3101, 8137, 286, 16957, 1696, 414, 1, 357, 40, 9577, 4544, 9325, 701, 8, 373, 1719, 319, 683, 13, 198, 198, 40, 423, 4750, 326, 9074, 13, 402, 271, 10899, 373, 5527, 26, 290, 340, 373, 3393, 34953, 856, 326, 607, 5229, 373, 37895, 422, 428, 25179, 257, 19217, 475, 8904, 14676, 13, 632, 318, 11, 355, 257, 3896, 11, 262, 661, 508, 40987, 1637, 508, 651, 749, 503, 286, 340, 26, 290, 3619, 338, 19992, 31564, 286, 465, 3656, 338, 1263, 5236, 9343, 683, 11, 351, 281, 5585, 286, 2818, 922, 12, 49705, 11, 284, 21595, 1133, 340, 656, 5563, 286, 1242, 290, 13064, 13, 1675, 262, 6846, 11, 314, 1276, 751, 11, 339, 6150, 5365, 31655, 26, 475, 339, 373, 7067, 29396, 18443, 12271, 290, 45592, 12, 14792, 5986, 351, 257, 8839, 326, 7284, 35924, 262, 12306, 395, 4133, 13, 198, 198, 1, 26788, 338, 691, 12226, 318, 284, 1234, 8737, 656, 19133, 553, 373, 530, 286, 262, 7877, 72, 3150, 339, 8104, 866, 1973, 262, 37918, 411, 290, 8465, 286, 281, 33954, 271, 3973, 9899, 14678, 40556, 12, 11487, 11, 618, 11, 319, 257, 1568, 1110, 11, 314, 550, 757, 1057, 625, 422, 22489, 40089, 26, 290, 9074, 13, 402, 271, 10899, 11, 307, 3723, 319, 683, 11, 2087, 329, 616, 35957, 25, 366, 14295, 318, 523, 34813, 306, 8564, 284, 790, 1296, 286, 8737, 526, 198, 198, 43920, 3619, 0, 632, 550, 1464, 587, 465, 10030, 284, 423, 1466, 910, 884, 1243, 286, 683, 25, 262, 1109, 815, 307, 900, 866, 287, 1070, 268, 2288, 13, 1867, 7425, 502, 783, 373, 326, 11, 329, 262, 717, 640, 11, 339, 581, 4714, 262, 8216, 13, 314, 550, 1775, 683, 11, 523, 1690, 11, 1615, 3364, 739, 2092, 256, 7657, 438, 9776, 340, 262, 11644, 43778, 3465, 326, 26773, 606, 286, 511, 6799, 454, 30, 1400, 438, 1640, 11, 31414, 1576, 11, 340, 2627, 4156, 326, 339, 373, 16245, 286, 9074, 13, 402, 271, 10899, 438, 69, 623, 1576, 407, 284, 766, 607, 41793, 13, 632, 373, 465, 898, 41793, 339, 3947, 284, 307, 1592, 2259, 739, 438, 14363, 898, 9408, 355, 281, 2134, 329, 5482, 4447, 290, 753, 1072, 13, 198, 198, 1, 3666, 13674, 11, 1201, 314, 1053, 442, 17758, 12036, 661, 836, 470, 910, 326, 3404, 546, 502, 438, 9930, 910, 340, 546, 12622, 41379, 293, 553, 373, 465, 691, 5402, 11, 355, 339, 8278, 422, 262, 3084, 290, 336, 8375, 503, 4291, 262, 4252, 18250, 8812, 558, 13, 198, 198, 40, 27846, 706, 683, 11, 7425, 416, 465, 938, 1573, 13, 12622, 41379, 293, 373, 11, 287, 1109, 11, 5033, 262, 582, 286, 262, 2589, 438, 292, 3619, 2241, 11, 530, 1244, 1234, 340, 11, 550, 587, 262, 582, 286, 262, 1711, 13, 383, 7099, 6802, 373, 531, 284, 423, 7042, 2241, 379, 616, 1545, 338, 3625, 11, 290, 314, 14028, 611, 257, 256, 11912, 286, 35394, 739, 10724, 262, 6846, 338, 11428, 450, 67, 3299, 13, 887, 645, 438, 1640, 340, 373, 407, 10597, 706, 326, 1785, 326, 262, 4808, 13698, 10322, 6532, 62, 8263, 12, 9649, 550, 9258, 284, 3359, 511, 366, 8642, 521, 829, 526, 198, 198, 40, 2900, 284, 9074, 13, 402, 271, 10899, 11, 508, 550, 18459, 1068, 284, 1577, 257, 23844, 286, 7543, 284, 607, 599, 6321, 287, 262, 17423, 12, 3823, 13, 198, 198, 1, 5195, 4808, 10134, 62, 339, 442, 17758, 12036, 1701, 314, 1965, 25891, 13, 198, 198, 3347, 4376, 607, 26928, 351, 257, 9254, 286, 922, 12, 17047, 8167, 5975, 13, 198, 198, 1, 5812, 11, 339, 1595, 470, 4808, 14150, 62, 284, 783, 11, 345, 760, 26, 290, 314, 765, 683, 284, 2883, 2241, 553, 673, 531, 2407, 2391, 13, 198, 198, 40, 3114, 546, 262, 40894, 2330, 12, 6839, 11978, 2119, 11, 351, 663, 4808, 44769, 8270, 12, 332, 660, 62, 410, 1386, 20394, 262, 23755, 286, 262, 14005, 1801, 2093, 41160, 11, 290, 663, 45592, 12, 14792, 1613, 1424, 287, 19217, 24887, 13431, 13, 198, 198, 1, 19242, 339, 442, 17758, 465, 5986, 1165, 30, 314, 4398, 470, 1775, 257, 2060, 530, 287, 262, 2156, 526, 198, 198, 32, 3731, 17979, 286, 32315, 12606, 9074, 13, 402, 271, 10899, 338, 1280, 954, 36368, 13, 366, 1026, 338, 465, 11441, 48740, 11, 345, 760, 13, 679, 1139, 484, 821, 407, 4197, 284, 423, 546, 26, 339, 338, 1908, 606, 477, 1497, 2845, 530, 438, 1820, 18560, 438, 392, 326, 314, 423, 284, 1394, 26148, 526, 198, 198, 6653, 11441, 48740, 438, 14295, 338, 48740, 546, 465, 5986, 30, 2011, 20136, 373, 3957, 588, 262, 26394, 12, 301, 971, 13, 314, 531, 10722, 292, 2280, 284, 616, 2583, 408, 25, 366, 40, 1276, 1107, 766, 534, 18560, 11, 345, 760, 526, 198, 198, 3347, 27846, 503, 2048, 4628, 24882, 379, 262, 8812, 558, 810, 607, 5229, 11, 21081, 782, 278, 287, 257, 14263, 276, 5118, 11, 550, 6578, 257, 24518, 290, 7428, 262, 3394, 20096, 39047, 338, 1182, 1022, 465, 14475, 13, 198, 198, 1, 5779, 11, 1282, 981, 339, 338, 407, 2045, 553, 673, 531, 11, 351, 257, 6487, 326, 3088, 284, 7808, 607, 10927, 1108, 26, 290, 314, 3940, 607, 1022, 262, 30623, 2295, 49406, 286, 262, 6899, 11, 290, 510, 262, 3094, 16046, 351, 1059, 430, 12, 66, 12375, 299, 20896, 82, 24357, 1871, 12734, 379, 1123, 9581, 13, 198, 198, 818, 262, 5391, 76, 395, 5228, 286, 607, 275, 2778, 10840, 11, 10371, 257, 1534, 4241, 286, 19217, 290, 18876, 5563, 11, 9174, 530, 286, 262, 5385, 41186, 39614, 1386, 11, 287, 262, 13203, 5482, 1044, 276, 5739, 13, 383, 5019, 19001, 286, 262, 5739, 1444, 510, 477, 402, 271, 10899, 338, 1613, 0, 198, 198, 27034, 13, 402, 271, 10899, 9859, 736, 262, 4324, 12, 66, 3325, 1299, 11, 3888, 7263, 257, 4808, 73, 446, 259, 13235, 62, 1336, 286, 11398, 35560, 1000, 292, 11, 7121, 281, 3211, 12, 16337, 1497, 11, 290, 531, 25, 366, 1532, 345, 1302, 994, 345, 460, 655, 6687, 284, 766, 340, 13, 314, 550, 340, 625, 262, 24818, 417, 12, 12239, 11, 475, 339, 3636, 470, 1309, 340, 2652, 526, 198, 198, 5297, 438, 40, 714, 655, 6687, 284, 766, 340, 438, 1169, 717, 18560, 286, 3619, 338, 314, 550, 1683, 550, 284, 14022, 616, 2951, 625, 0, 19672, 484, 550, 262, 1295, 286, 15393, 438, 16706, 262, 4318, 6103, 287, 257, 14005, 7872, 393, 4808, 13698, 10322, 6532, 62, 8263, 12, 3823, 11, 393, 257, 36364, 1396, 417, 4624, 523, 326, 340, 1718, 262, 1657, 832, 41160, 286, 1468, 9932, 316, 666, 966, 13, 383, 517, 12949, 1295, 2627, 262, 4286, 1365, 26, 1865, 11, 355, 616, 2951, 6348, 23840, 284, 262, 2063, 12, 2971, 11, 477, 262, 16704, 14482, 1625, 503, 438, 439, 262, 10818, 20597, 32192, 355, 2709, 330, 871, 11, 262, 15910, 286, 16153, 312, 328, 3780, 416, 543, 11, 351, 884, 2784, 9830, 5032, 11, 339, 5257, 284, 36583, 3241, 422, 262, 1103, 1597, 286, 262, 4286, 284, 617, 2495, 11331, 2768, 590, 286, 3703, 13, 9074, 13, 402, 271, 10899, 11, 17728, 257, 8500, 4417, 284, 670, 319, 438, 15464, 11, 355, 340, 547, 11, 523, 16857, 262, 4469, 286, 607, 898, 4286, 438, 18108, 26269, 5223, 287, 281, 8468, 4922, 284, 262, 3359, 286, 428, 3991, 4118, 84, 16579, 13, 383, 4286, 373, 530, 286, 3619, 338, 366, 11576, 395, 553, 355, 465, 21099, 3808, 561, 423, 1234, 340, 438, 270, 7997, 11, 319, 465, 636, 11, 257, 29844, 286, 12749, 11, 257, 22791, 278, 286, 32375, 11, 257, 22486, 11, 965, 2860, 1359, 290, 965, 1397, 11, 326, 14516, 530, 286, 262, 33125, 12, 565, 593, 338, 25304, 4040, 284, 10303, 257, 17972, 13, 632, 1138, 11, 287, 1790, 11, 379, 790, 966, 262, 3512, 286, 14081, 2415, 284, 307, 13055, 366, 11576, 306, 1, 780, 673, 373, 10032, 286, 852, 13055, 366, 34751, 306, 1, 438, 392, 1865, 407, 284, 4425, 281, 22037, 286, 262, 32073, 13, 198, 198, 1, 1026, 338, 262, 938, 339, 13055, 11, 345, 760, 553, 9074, 13, 402, 271, 10899, 531, 351, 27322, 540, 11293, 13, 366, 464, 938, 475, 530, 553, 673, 19267, 5223, 438, 1, 4360, 262, 584, 1595, 470, 954, 11, 780, 339, 6572, 340, 526, 198, 198, 1, 49174, 276, 340, 1701, 314, 373, 546, 284, 1061, 510, 428, 18437, 618, 314, 2982, 257, 2366, 9662, 290, 2497, 3619, 2241, 319, 262, 11387, 13, 198, 198, 1722, 339, 6204, 612, 11, 465, 2832, 287, 262, 16511, 286, 465, 11555, 303, 7821, 13209, 11, 262, 7888, 7586, 9813, 286, 4190, 7121, 736, 422, 465, 2330, 22645, 11, 465, 10904, 4252, 6236, 429, 25839, 9230, 808, 276, 416, 257, 8212, 326, 13663, 262, 9040, 286, 257, 2116, 12, 10414, 738, 285, 23968, 4891, 11, 314, 2936, 284, 644, 257, 4922, 339, 550, 262, 976, 3081, 355, 465, 5986, 438, 1169, 3081, 286, 2045, 1190, 4119, 81, 621, 339, 373, 13, 198, 198, 6653, 3656, 27846, 379, 683, 1207, 8344, 803, 306, 11, 475, 465, 2951, 21650, 1613, 607, 284, 262, 18560, 13, 198, 198, 1, 5246, 13, 8759, 2763, 2227, 284, 766, 340, 553, 673, 2540, 11, 355, 611, 2859, 3500, 5223, 13, 679, 28271, 465, 12450, 11, 991, 16755, 13, 198, 198, 1, 5812, 11, 8759, 2763, 1043, 502, 503, 890, 2084, 553, 339, 531, 15376, 26, 788, 11, 6427, 465, 3211, 832, 6164, 25, 366, 16773, 290, 766, 262, 1334, 286, 262, 2156, 526, 198, 198, 1544, 3751, 340, 284, 502, 351, 257, 1611, 286, 24354, 20154, 11293, 25, 262, 7837, 12, 9649, 11, 262, 5486, 12, 83, 29080, 11, 262, 6576, 12, 565, 418, 1039, 11, 262, 4057, 2655, 12, 8439, 274, 438, 439, 262, 3716, 7106, 6637, 286, 262, 45172, 338, 5928, 3773, 13, 843, 8797, 616, 4240, 3432, 262, 2938, 17547, 339, 531, 11, 9644, 503, 465, 7721, 257, 1310, 25, 366, 5297, 11, 314, 1107, 836, 470, 766, 703, 661, 6687, 284, 2107, 1231, 326, 526, 198, 198, 5779, 438, 270, 373, 655, 262, 886, 530, 1244, 423, 1674, 15898, 329, 683, 13, 5514, 339, 373, 11, 832, 340, 477, 290, 287, 15275, 286, 340, 477, 438, 292, 339, 550, 587, 832, 11, 290, 287, 15275, 286, 11, 465, 5986, 438, 568, 22665, 11, 523, 23332, 11, 523, 595, 18052, 11, 326, 530, 890, 276, 284, 3960, 503, 25, 366, 3856, 44455, 351, 534, 24638, 2474, 355, 1752, 530, 550, 890, 276, 284, 910, 25, 366, 3856, 44455, 351, 534, 670, 2474, 198, 198, 1537, 11, 351, 262, 3960, 319, 616, 11914, 11, 616, 13669, 6989, 281, 10059, 2198, 13, 198, 198, 1, 1212, 318, 616, 898, 49451, 553, 339, 531, 11, 3756, 502, 656, 257, 3223, 8631, 2119, 379, 262, 886, 286, 262, 781, 273, 312, 410, 12523, 13, 632, 373, 6616, 290, 7586, 290, 11620, 88, 25, 645, 366, 34435, 8172, 645, 865, 291, 12, 64, 12, 1671, 330, 11, 4844, 286, 262, 1633, 286, 24380, 329, 20728, 287, 257, 4286, 10273, 438, 29370, 477, 11, 645, 1551, 1051, 286, 1683, 1719, 587, 973, 355, 257, 8034, 13, 198, 198, 464, 1109, 3181, 1363, 284, 502, 262, 4112, 957, 1483, 286, 3619, 338, 2270, 351, 465, 1468, 1204, 13, 198, 198, 1, 3987, 470, 345, 1683, 45553, 903, 351, 7521, 597, 517, 1701, 314, 1965, 11, 991, 2045, 546, 329, 257, 12854, 286, 884, 3842, 13, 198, 198, 1, 12295, 553, 339, 531, 11589, 13, 198, 198, 1, 5574, 1660, 12, 49903, 438, 273, 2123, 10813, 1701, 198, 198, 6653, 6563, 2951, 6348, 5391, 11, 290, 465, 25839, 279, 3021, 257, 1310, 739, 511, 22665, 4252, 10899, 13, 198, 198, 1, 12295, 892, 286, 340, 11, 616, 13674, 5891, 438, 1092, 517, 621, 611, 314, 1549, 1239, 12615, 257, 14093, 526, 198, 198, 1870, 465, 8216, 1297, 502, 287, 257, 7644, 326, 339, 1239, 1807, 286, 1997, 2073, 13, 198, 198, 40, 3888, 1497, 11, 43045, 21100, 416, 616, 10059, 9412, 26, 290, 355, 314, 2900, 11, 616, 4151, 3214, 319, 257, 1402, 4286, 2029, 262, 24818, 417, 12, 12239, 438, 1169, 691, 2134, 7163, 262, 8631, 26210, 3425, 9417, 286, 262, 2119, 13, 198, 198, 1, 5812, 11, 416, 449, 659, 2474, 314, 531, 13, 198, 198, 1026, 373, 257, 17548, 286, 257, 50085, 438, 272, 1468, 10032, 50085, 11, 5055, 287, 262, 6290, 739, 257, 3355, 13, 198, 198, 1, 3886, 449, 659, 438, 64, 520, 5493, 2474, 314, 16896, 13, 198, 198, 1544, 373, 10574, 26, 475, 314, 2936, 683, 1969, 2157, 502, 11, 12704, 257, 1310, 2952, 13, 198, 198, 1, 2061, 257, 4240, 0, 14446, 351, 257, 8667, 3951, 438, 4360, 319, 45697, 19369, 13, 921, 9670, 28022, 11, 810, 750, 345, 651, 340, 1701, 198, 198, 1544, 9373, 6364, 25, 366, 27034, 13, 520, 5493, 2921, 340, 284, 502, 526, 198, 198, 1, 10910, 438, 40, 1422, 470, 760, 345, 772, 2993, 262, 520, 5493, 82, 13, 679, 373, 884, 281, 1167, 2588, 856, 607, 2781, 526, 198, 198, 1, 40, 1422, 470, 438, 83, 359, 706, 13, 764, 764, 764, 1375, 1908, 329, 502, 284, 7521, 683, 618, 339, 373, 2636, 526, 198, 198, 1, 2215, 339, 373, 2636, 30, 921, 1701, 198, 198, 40, 1276, 423, 1309, 257, 1310, 1165, 881, 40642, 972, 6654, 832, 616, 5975, 11, 329, 339, 9373, 351, 257, 1207, 8344, 803, 6487, 25, 366, 5297, 438, 7091, 338, 281, 12659, 2829, 1122, 11, 345, 760, 11, 9074, 13, 520, 5493, 13, 2332, 691, 2126, 373, 284, 423, 683, 1760, 416, 257, 38378, 34537, 438, 993, 11, 3595, 520, 5493, 0, 1375, 1807, 340, 262, 1654, 301, 835, 286, 46431, 465, 27951, 438, 1659, 10833, 340, 319, 257, 1308, 27461, 1171, 13, 843, 379, 262, 2589, 314, 373, 4808, 1169, 62, 38378, 34537, 526, 198, 198, 1, 10910, 11, 3595, 520, 5493, 438, 292, 345, 910, 13, 8920, 4808, 5562, 62, 465, 2106, 1701, 198, 198, 1, 2504, 373, 465, 2106, 13, 1375, 4762, 287, 683, 11, 26996, 798, 287, 683, 438, 273, 1807, 673, 750, 13, 887, 673, 3521, 470, 6842, 407, 284, 423, 477, 262, 8263, 12, 9649, 351, 607, 13, 1375, 3521, 470, 6842, 262, 1109, 326, 11, 319, 1401, 77, 3929, 1528, 11, 530, 714, 1464, 651, 1474, 1576, 284, 766, 465, 5986, 13, 23676, 2415, 0, 1375, 338, 655, 257, 24225, 39136, 278, 329, 584, 21441, 13, 520, 5493, 318, 262, 691, 2187, 314, 1683, 2993, 526, 198, 198, 1, 1639, 1683, 2993, 30, 887, 345, 655, 531, 438, 1, 198, 198, 38, 271, 10899, 550, 257, 11040, 8212, 287, 465, 2951, 13, 198, 198, 1, 5812, 11, 314, 2993, 683, 11, 290, 339, 2993, 502, 438, 8807, 340, 3022, 706, 339, 373, 2636, 526, 198, 198, 40, 5710, 616, 3809, 43045, 13, 366, 2215, 673, 1908, 329, 345, 1701, 198, 198, 1, 5297, 438, 37121, 1035, 27339, 284, 262, 21296, 13, 1375, 2227, 683, 29178, 3474, 438, 392, 416, 502, 2474, 198, 198, 1544, 13818, 757, 11, 290, 9617, 736, 465, 1182, 284, 804, 510, 379, 262, 17548, 286, 262, 50085, 13, 366, 1858, 547, 1528, 618, 314, 3521, 470, 804, 379, 326, 1517, 438, 24089, 77, 470, 1986, 340, 13, 887, 314, 4137, 3589, 284, 1234, 340, 994, 26, 290, 783, 340, 338, 30703, 502, 438, 66, 1522, 502, 13, 1320, 338, 262, 1738, 1521, 314, 836, 470, 45553, 903, 597, 517, 11, 616, 13674, 8759, 2763, 26, 393, 2138, 520, 5493, 2241, 318, 262, 1738, 526, 198, 198, 1890, 262, 717, 640, 616, 21696, 20136, 546, 616, 15185, 2900, 656, 257, 2726, 6227, 284, 1833, 683, 1365, 13, 198, 198, 1, 40, 4601, 345, 1549, 1560, 502, 703, 340, 3022, 553, 314, 531, 13, 198, 198, 1544, 6204, 2045, 510, 379, 262, 17548, 11, 290, 665, 24297, 1022, 465, 9353, 257, 17779, 339, 550, 11564, 284, 1657, 13, 24975, 339, 2900, 3812, 502, 13, 198, 198, 1, 40, 1549, 2138, 588, 284, 1560, 345, 438, 13893, 314, 1053, 1464, 9885, 345, 286, 2376, 26927, 616, 670, 526, 198, 198, 40, 925, 257, 1207, 8344, 803, 18342, 11, 543, 339, 2469, 265, 1572, 351, 257, 922, 12, 17047, 8167, 32545, 13, 198, 198, 1, 5812, 11, 314, 1422, 470, 1337, 257, 14787, 618, 314, 4762, 287, 3589, 438, 392, 783, 340, 338, 281, 2087, 9839, 1022, 514, 2474, 198, 198, 1544, 13818, 4622, 11, 1231, 35987, 11, 290, 7121, 530, 286, 262, 2769, 3211, 12, 49655, 2651, 13, 366, 1858, 25, 787, 3511, 6792, 438, 392, 994, 389, 262, 33204, 345, 588, 526, 198, 198, 1544, 4624, 606, 379, 616, 22662, 290, 3767, 284, 27776, 510, 290, 866, 262, 2119, 11, 12225, 783, 290, 788, 11061, 262, 4286, 13, 198, 198, 1, 2437, 340, 3022, 30, 314, 460, 1560, 345, 287, 1936, 2431, 438, 392, 340, 1422, 470, 1011, 881, 2392, 284, 1645, 13, 764, 764, 764, 314, 460, 3505, 783, 703, 6655, 290, 10607, 314, 373, 618, 314, 1392, 9074, 13, 520, 5493, 338, 3465, 13, 3226, 1781, 11, 2769, 866, 11, 314, 550, 1464, 4808, 31985, 62, 612, 373, 645, 530, 588, 683, 438, 8807, 314, 550, 3750, 351, 262, 4269, 11, 22211, 262, 6678, 40315, 10455, 546, 683, 11, 10597, 314, 2063, 1392, 284, 892, 339, 373, 257, 5287, 11, 530, 286, 262, 1611, 326, 389, 1364, 2157, 13, 2750, 449, 659, 11, 290, 339, 4808, 9776, 62, 1364, 2157, 438, 13893, 339, 550, 1282, 284, 2652, 0, 383, 1334, 286, 514, 550, 284, 1309, 6731, 307, 17676, 1863, 393, 467, 739, 11, 475, 339, 373, 1029, 2029, 262, 1459, 438, 261, 45697, 19369, 11, 355, 345, 910, 13, 198, 198, 1, 5779, 11, 314, 1816, 572, 284, 262, 2156, 287, 616, 749, 34372, 10038, 438, 34330, 3888, 11, 4453, 20927, 502, 11, 379, 262, 3108, 418, 286, 3595, 520, 5493, 338, 3451, 286, 5287, 852, 37492, 416, 262, 13476, 286, 616, 12036, 683, 0, 3226, 1781, 314, 4001, 284, 466, 262, 4286, 329, 2147, 438, 40, 1297, 9074, 13, 520, 5493, 523, 618, 673, 2540, 284, 336, 321, 647, 1223, 546, 607, 8098, 13, 314, 3505, 1972, 572, 257, 40426, 10956, 9546, 546, 262, 15393, 852, 4808, 3810, 62, 438, 1219, 11, 314, 373, 19716, 306, 11, 616, 13674, 8759, 2763, 0, 314, 373, 24380, 284, 3589, 588, 530, 286, 616, 898, 1650, 1010, 13, 198, 198, 1, 6423, 314, 373, 2077, 510, 290, 1364, 3436, 351, 683, 13, 314, 550, 1908, 477, 616, 20348, 287, 5963, 11, 290, 314, 550, 691, 284, 900, 510, 262, 1396, 417, 290, 651, 284, 670, 13, 679, 550, 587, 2636, 691, 8208, 12, 14337, 2250, 11, 290, 339, 3724, 6451, 11, 286, 2612, 4369, 11, 523, 326, 612, 550, 587, 645, 15223, 670, 286, 8166, 438, 14363, 1986, 373, 1598, 290, 36519, 13, 314, 550, 1138, 683, 1752, 393, 5403, 11, 812, 878, 11, 290, 1807, 683, 32081, 290, 44852, 88, 13, 2735, 314, 2497, 326, 339, 373, 21840, 13, 198, 198, 1, 40, 373, 9675, 379, 717, 11, 351, 257, 6974, 19713, 14676, 25, 9675, 284, 423, 616, 1021, 319, 884, 257, 705, 32796, 2637, 3244, 465, 6283, 1204, 12, 46965, 9449, 2540, 284, 2689, 502, 24506, 306, 438, 292, 314, 10226, 262, 1182, 287, 314, 2936, 355, 611, 339, 547, 4964, 502, 466, 340, 13, 383, 18098, 373, 3940, 416, 262, 1807, 25, 611, 339, 4808, 22474, 62, 4964, 502, 11, 644, 561, 339, 910, 284, 616, 835, 286, 1762, 30, 2011, 29483, 2540, 284, 467, 257, 1310, 4295, 438, 40, 2936, 10927, 290, 8627, 13, 198, 198, 1, 7454, 11, 618, 314, 3114, 510, 11, 314, 3947, 284, 766, 257, 8212, 2157, 465, 1969, 12768, 680, 21213, 438, 292, 611, 339, 550, 262, 3200, 11, 290, 547, 28297, 2241, 416, 4769, 340, 736, 422, 502, 13, 1320, 41851, 515, 502, 991, 517, 13, 383, 3200, 30, 4162, 11, 314, 550, 257, 3200, 2861, 8208, 286, 465, 0, 314, 37901, 379, 262, 21978, 44896, 11, 290, 3088, 617, 286, 616, 49025, 5330, 15910, 13, 887, 484, 4054, 502, 11, 484, 1067, 11137, 13, 314, 2497, 326, 339, 2492, 470, 4964, 262, 905, 88, 10340, 438, 40, 3521, 470, 11786, 465, 3241, 26, 339, 655, 4030, 465, 2951, 319, 262, 1327, 22674, 1022, 13, 5845, 547, 262, 3392, 314, 550, 1464, 427, 343, 9091, 11, 393, 5017, 510, 351, 617, 9105, 7521, 13, 843, 703, 339, 2497, 832, 616, 7363, 0, 198, 198, 1, 40, 3114, 510, 757, 11, 290, 4978, 6504, 286, 326, 17548, 286, 262, 50085, 10938, 319, 262, 3355, 1474, 465, 3996, 13, 2399, 3656, 1297, 502, 20875, 340, 373, 262, 938, 1517, 339, 550, 1760, 438, 3137, 257, 3465, 2077, 351, 257, 17275, 1021, 11, 618, 339, 373, 866, 287, 6245, 684, 10695, 20222, 422, 257, 2180, 2612, 1368, 13, 2329, 257, 3465, 0, 887, 340, 4952, 465, 2187, 2106, 13, 1318, 389, 812, 286, 5827, 40987, 913, 30802, 287, 790, 1627, 13, 317, 582, 508, 550, 1509, 388, 351, 262, 1459, 714, 1239, 423, 4499, 326, 18680, 510, 12, 5532, 14000, 13, 764, 764, 764, 198, 198, 1, 40, 2900, 736, 284, 616, 670, 11, 290, 1816, 319, 39136, 278, 290, 285, 4185, 1359, 26, 788, 314, 3114, 379, 262, 50085, 757, 13, 314, 2497, 326, 11, 618, 520, 5493, 8104, 287, 262, 717, 14000, 11, 339, 2993, 655, 644, 262, 886, 561, 307, 13, 679, 550, 17273, 465, 2426, 11, 19233, 340, 11, 11027, 515, 340, 13, 1649, 550, 314, 1760, 326, 351, 597, 286, 616, 1243, 30, 1119, 8020, 470, 587, 4642, 286, 502, 438, 40, 550, 655, 8197, 606, 13, 764, 764, 764, 198, 198, 1, 39, 648, 340, 11, 8759, 2763, 11, 351, 326, 1986, 4964, 502, 314, 3521, 470, 466, 1194, 14000, 13, 383, 8631, 3872, 373, 11, 314, 1422, 470, 760, 810, 284, 1234, 340, 438, 62, 40, 550, 1239, 1900, 44807, 5514, 11, 351, 616, 1650, 1010, 290, 616, 1171, 11, 257, 905, 88, 22870, 286, 9568, 5017, 510, 262, 1109, 438, 40, 655, 9617, 7521, 656, 511, 6698, 13, 764, 764, 764, 3894, 11, 7521, 373, 262, 530, 7090, 883, 2636, 2951, 714, 766, 832, 438, 3826, 3892, 284, 262, 2006, 20212, 19369, 14638, 13, 2094, 470, 345, 760, 703, 11, 287, 3375, 257, 3215, 3303, 11, 772, 6562, 1473, 11, 530, 1139, 2063, 262, 640, 407, 644, 530, 3382, 284, 475, 644, 530, 460, 30, 3894, 438, 5562, 373, 262, 835, 314, 13055, 26, 290, 355, 339, 3830, 612, 290, 7342, 502, 11, 262, 1517, 484, 1444, 616, 705, 23873, 2350, 6, 14707, 588, 257, 2156, 286, 4116, 13, 679, 1422, 470, 10505, 263, 11, 345, 1833, 11, 3595, 520, 5493, 438, 258, 655, 3830, 612, 12703, 4964, 11, 290, 319, 465, 11914, 11, 832, 262, 12768, 21213, 11, 314, 3947, 284, 3285, 262, 1808, 25, 705, 8491, 345, 1654, 345, 760, 810, 345, 821, 2406, 503, 8348, 198, 198, 1, 1532, 314, 714, 423, 13055, 326, 1986, 11, 351, 326, 1808, 319, 340, 11, 314, 815, 423, 1760, 257, 1049, 1517, 13, 383, 1306, 6000, 1517, 373, 284, 766, 326, 314, 3521, 470, 438, 392, 326, 11542, 373, 1813, 502, 13, 887, 11, 11752, 11, 379, 326, 5664, 11, 8759, 2763, 11, 373, 612, 1997, 319, 4534, 314, 3636, 470, 423, 1813, 284, 423, 520, 5493, 6776, 878, 502, 11, 290, 284, 3285, 683, 910, 25, 705, 1026, 338, 407, 1165, 2739, 438, 40, 1183, 905, 345, 703, 30960, 198, 198, 1, 1026, 4808, 9776, 62, 1165, 2739, 438, 270, 561, 423, 587, 11, 772, 611, 339, 1549, 587, 6776, 13, 314, 11856, 510, 616, 20348, 11, 290, 1816, 866, 290, 1297, 9074, 13, 520, 5493, 13, 3226, 1781, 314, 1422, 470, 1560, 607, 4808, 5562, 62, 438, 270, 561, 423, 587, 8312, 284, 607, 13, 314, 2391, 531, 314, 3521, 470, 7521, 683, 11, 326, 314, 373, 1165, 3888, 13, 1375, 2138, 8288, 262, 2126, 438, 7091, 338, 523, 14348, 0, 632, 373, 326, 326, 925, 607, 1577, 502, 262, 50085, 13, 887, 673, 373, 22121, 9247, 379, 407, 1972, 262, 18560, 438, 7091, 750, 523, 765, 683, 705, 28060, 6, 416, 617, 530, 905, 88, 0, 1629, 717, 314, 373, 7787, 673, 3636, 470, 1309, 502, 572, 438, 392, 379, 616, 266, 896, 6, 886, 314, 5220, 41379, 293, 13, 3363, 11, 340, 373, 314, 508, 2067, 41379, 293, 25, 314, 1297, 9074, 13, 520, 5493, 339, 373, 262, 705, 4976, 6, 582, 11, 290, 673, 1297, 8276, 2073, 11, 290, 523, 340, 1392, 284, 307, 2081, 13, 764, 764, 764, 843, 339, 13055, 520, 5493, 1231, 1592, 2259, 26, 290, 673, 9174, 262, 4286, 1871, 607, 5229, 338, 1243, 13, 764, 764, 22135, 198, 198, 1544, 45111, 2241, 866, 287, 262, 3211, 12, 16337, 1474, 6164, 11, 8104, 736, 465, 1182, 11, 290, 47425, 278, 465, 5101, 11061, 340, 11, 3114, 510, 379, 262, 4286, 2029, 262, 18205, 1681, 12, 12239, 13, 198, 198, 1, 40, 588, 284, 14996, 326, 520, 5493, 2241, 561, 423, 1813, 340, 284, 502, 11, 611, 339, 1549, 587, 1498, 284, 910, 644, 339, 1807, 326, 1110, 526, 198, 198, 1870, 11, 287, 3280, 284, 257, 1808, 314, 1234, 2063, 12, 1326, 3147, 1146, 438, 1, 44140, 757, 1701, 339, 30050, 503, 13, 366, 2215, 262, 530, 1517, 326, 6774, 502, 6609, 1474, 683, 318, 326, 314, 2993, 1576, 284, 2666, 572, 1701, 198, 198, 1544, 6204, 510, 290, 8104, 465, 1021, 319, 616, 8163, 351, 257, 6487, 13, 366, 10049, 262, 21296, 286, 340, 318, 326, 314, 4808, 321, 62, 991, 12036, 438, 20777, 41379, 293, 338, 1804, 340, 329, 502, 0, 383, 520, 5493, 82, 1302, 3436, 11, 290, 1645, 1752, 438, 4360, 612, 338, 645, 42393, 803, 674, 1611, 286, 1242, 526]\n",
      "I\n",
      "[40, 367, 2885, 1464]  ->  [367, 2885, 1464, 1807]\n",
      "[40] -> 367\n",
      "[40, 367] -> 2885\n",
      "[40, 367, 2885] -> 1464\n",
      "[40, 367, 2885, 1464] -> 1807\n",
      "I ->  H\n",
      "I H -> AD\n",
      "I HAD ->  always\n",
      "I HAD always ->  thought\n"
     ]
    }
   ],
   "source": [
    "with open(\"the-verdict.txt\",\"r\",encoding=\"utf-8\") as f:\n",
    "    text = f.read()\n",
    "int = tokenizer.encode(text,allowed_special={\"<|endoftext|>\"})\n",
    "print(int)\n",
    "strs = tokenizer.decode(int)\n",
    "print(tokenizer.decode(int[:1]))\n",
    "context_len = 4\n",
    "print(int[:context_len],\" -> \",int[1:context_len+1])\n",
    "for i in range(1,context_len+1):\n",
    "    print(int[:i], \"->\", int[i])\n",
    "for i in range(1,context_len+1):\n",
    "    print(tokenizer.decode(int[:i]), \"->\", tokenizer.decode([int[i]]))"
   ]
  },
  {
   "cell_type": "markdown",
   "id": "f71cd1c1",
   "metadata": {},
   "source": [
    "<b>Implementing a data loader:"
   ]
  },
  {
   "cell_type": "code",
   "execution_count": 11,
   "id": "b7a9d108",
   "metadata": {},
   "outputs": [],
   "source": [
    "from torch.utils.data import Dataset, DataLoader\n",
    "import torch\n",
    "class LLMdataset(Dataset):\n",
    "    def __init__(self, text,tokenizer, context_len, stride=1):\n",
    "        self.tokenizer = tokenizer\n",
    "        self.context_len = context_len\n",
    "        self.stride = stride\n",
    "        \n",
    "        #Tokenixze the entire text\n",
    "        self.data = tokenizer.encode(text,allowed_special={\"<|endoftext|>\"})\n",
    "        print(f\"Data has {len(self.data)} tokens\")\n",
    "        \n",
    "        #Create input-output pairs\n",
    "        self.inputs = []\n",
    "        self.outputs = []   \n",
    "        for i in range(0, len(self.data)-context_len, stride):\n",
    "            input_seq = self.data[i:i+context_len]\n",
    "            output_seq = self.data[i+1:i+context_len+1]\n",
    "            self.inputs.append(torch.tensor(input_seq))\n",
    "            self.outputs.append(torch.tensor(output_seq))\n",
    "    \n",
    "    def __len__(self):\n",
    "        return len(self.inputs)\n",
    "    \n",
    "    def __getitem__(self, idx):\n",
    "        return self.inputs[idx], self.outputs[idx]"
   ]
  },
  {
   "cell_type": "code",
   "execution_count": 12,
   "id": "cfd32c92",
   "metadata": {},
   "outputs": [],
   "source": [
    "def create_dataloader(text,max_length=256, stride=128,\n",
    "                      batch_size=4,num_workers=0,shuffle=True,drop_last=True): \n",
    "    tokenizer = tiktoken.get_encoding(\"gpt2\")\n",
    "    dataset = LLMdataset(text, tokenizer, max_length, stride)\n",
    "    dataloader = DataLoader(dataset, batch_size=batch_size, shuffle=shuffle,drop_last=drop_last,num_workers=num_workers)\n",
    "    return dataloader"
   ]
  },
  {
   "cell_type": "code",
   "execution_count": 13,
   "id": "c49e4201",
   "metadata": {},
   "outputs": [
    {
     "name": "stdout",
     "output_type": "stream",
     "text": [
      "Data has 5145 tokens\n",
      "[tensor([[  40,  367, 2885, 1464]]), tensor([[ 367, 2885, 1464, 1807]])]\n"
     ]
    }
   ],
   "source": [
    "dataloader = create_dataloader(text,batch_size=1,max_length= 4,stride=1,shuffle=False,drop_last=False)\n",
    "data_iter = iter(dataloader)\n",
    "first=next(data_iter)\n",
    "print(first)"
   ]
  },
  {
   "cell_type": "markdown",
   "id": "1ba1e87a",
   "metadata": {},
   "source": [
    "<b>Create Token Embeddings\n"
   ]
  },
  {
   "cell_type": "code",
   "execution_count": 14,
   "id": "7ae4c52e",
   "metadata": {},
   "outputs": [
    {
     "name": "stdout",
     "output_type": "stream",
     "text": [
      "Parameter containing:\n",
      "tensor([[-0.2965,  1.2780,  2.4283, -1.4127,  0.5424, -1.0617, -0.0074,  0.5978],\n",
      "        [-0.9931, -1.1884, -0.5199,  0.5980, -0.1496,  2.6983, -0.3765, -0.1157],\n",
      "        [-1.5002, -0.5749,  0.0181,  0.7397,  0.5949,  0.1703,  1.1525,  0.5213],\n",
      "        [-0.2541,  0.8859,  0.7441, -0.1554, -0.3047,  0.2454, -0.2689, -0.6790],\n",
      "        [ 0.4554, -1.1907,  0.1251, -1.1796,  1.2104, -2.0776,  0.4003,  0.6311],\n",
      "        [ 1.0912, -1.9986, -1.4711, -0.7748, -1.7422,  0.8521, -0.5340,  1.3872],\n",
      "        [ 0.4734,  1.2624,  0.3709,  1.0673,  1.5333, -1.4959,  0.0737,  0.3684],\n",
      "        [-1.0046,  1.1609,  1.0909,  1.3772, -0.9053,  0.4834, -1.0634,  0.6178],\n",
      "        [ 0.9583, -0.5808, -1.0443, -0.9404,  0.3085,  0.3809,  0.8629, -0.9471],\n",
      "        [ 0.3132, -0.3409, -0.3210, -0.8398, -0.4127,  0.4744, -0.7856,  2.3760]],\n",
      "       requires_grad=True)\n"
     ]
    }
   ],
   "source": [
    "inputs=torch.tensor([0,  4,  1,  2,3])\n",
    "vocab_size = 10\n",
    "dimension = 8\n",
    "embedding = torch.nn.Embedding(vocab_size, dimension)\n",
    "print(embedding.weight)\n",
    "\n"
   ]
  },
  {
   "cell_type": "code",
   "execution_count": 15,
   "id": "9be67361",
   "metadata": {},
   "outputs": [
    {
     "name": "stdout",
     "output_type": "stream",
     "text": [
      "tensor([[-0.2541,  0.8859,  0.7441, -0.1554, -0.3047,  0.2454, -0.2689, -0.6790]],\n",
      "       grad_fn=<EmbeddingBackward0>)\n",
      "tensor([[-0.2965,  1.2780,  2.4283, -1.4127,  0.5424, -1.0617, -0.0074,  0.5978],\n",
      "        [ 0.4554, -1.1907,  0.1251, -1.1796,  1.2104, -2.0776,  0.4003,  0.6311],\n",
      "        [-0.9931, -1.1884, -0.5199,  0.5980, -0.1496,  2.6983, -0.3765, -0.1157],\n",
      "        [-1.5002, -0.5749,  0.0181,  0.7397,  0.5949,  0.1703,  1.1525,  0.5213],\n",
      "        [-0.2541,  0.8859,  0.7441, -0.1554, -0.3047,  0.2454, -0.2689, -0.6790]],\n",
      "       grad_fn=<EmbeddingBackward0>)\n"
     ]
    },
    {
     "name": "stderr",
     "output_type": "stream",
     "text": [
      "C:\\Users\\User\\AppData\\Local\\Temp\\ipykernel_27992\\1663483206.py:2: UserWarning: To copy construct from a tensor, it is recommended to use sourceTensor.clone().detach() or sourceTensor.clone().detach().requires_grad_(True), rather than torch.tensor(sourceTensor).\n",
      "  print(embedding(torch.tensor(inputs)))\n"
     ]
    }
   ],
   "source": [
    "print(embedding(torch.tensor([3])))\n",
    "print(embedding(torch.tensor(inputs)))"
   ]
  },
  {
   "cell_type": "markdown",
   "id": "edcf9978",
   "metadata": {},
   "source": [
    "Positional embedding"
   ]
  },
  {
   "cell_type": "code",
   "execution_count": 16,
   "id": "631a15bd",
   "metadata": {},
   "outputs": [],
   "source": [
    "vocab_size = 50257\n",
    "dimension = 768\n",
    "embedding = torch.nn.Embedding(vocab_size, dimension)"
   ]
  },
  {
   "cell_type": "code",
   "execution_count": 18,
   "id": "f13e32ee",
   "metadata": {},
   "outputs": [
    {
     "name": "stdout",
     "output_type": "stream",
     "text": [
      "Data has 5145 tokens\n",
      "tensor([[   40,   367,  2885,  1464],\n",
      "        [ 1807,  3619,   402,   271],\n",
      "        [10899,  2138,   257,  7026],\n",
      "        [15632,   438,  2016,   257],\n",
      "        [  922,  5891,  1576,   438],\n",
      "        [  568,   340,   373,   645],\n",
      "        [ 1049,  5975,   284,   502],\n",
      "        [  284,  3285,   326,    11]])\n"
     ]
    }
   ],
   "source": [
    "dataloader=create_dataloader(text,batch_size=8,max_length= 4,stride=4,shuffle=False,drop_last=False)\n",
    "data_iter = iter(dataloader)\n",
    "inputs,targets=next(data_iter)\n",
    "print(inputs)\n"
   ]
  },
  {
   "cell_type": "code",
   "execution_count": 19,
   "id": "29efad6e",
   "metadata": {},
   "outputs": [
    {
     "name": "stdout",
     "output_type": "stream",
     "text": [
      "torch.Size([8, 4, 768])\n"
     ]
    }
   ],
   "source": [
    "embeddings = embedding(inputs)\n",
    "print(embeddings.shape)"
   ]
  },
  {
   "cell_type": "code",
   "execution_count": 23,
   "id": "a64ff25e",
   "metadata": {},
   "outputs": [
    {
     "name": "stdout",
     "output_type": "stream",
     "text": [
      "Parameter containing:\n",
      "tensor([[ 0.7695,  1.6696,  1.1275,  ...,  0.5413,  1.1727, -0.4522],\n",
      "        [ 0.1084,  1.2868,  0.4365,  ..., -1.6991, -0.4487, -0.3466],\n",
      "        [-1.6368, -0.3985, -0.5356,  ...,  0.5510, -0.1162,  1.5623],\n",
      "        [ 0.7553,  0.2174,  1.2904,  ..., -0.1918, -0.4561, -0.7560]],\n",
      "       requires_grad=True)\n",
      "torch.Size([4, 768])\n",
      "tensor([[ 0.7695,  1.6696,  1.1275,  ...,  0.5413,  1.1727, -0.4522],\n",
      "        [ 0.1084,  1.2868,  0.4365,  ..., -1.6991, -0.4487, -0.3466],\n",
      "        [-1.6368, -0.3985, -0.5356,  ...,  0.5510, -0.1162,  1.5623],\n",
      "        [ 0.7553,  0.2174,  1.2904,  ..., -0.1918, -0.4561, -0.7560]],\n",
      "       grad_fn=<EmbeddingBackward0>)\n"
     ]
    }
   ],
   "source": [
    "positional_embedding = torch.nn.Embedding(4, dimension)\n",
    "print(positional_embedding.weight)\n",
    "pos = positional_embedding(torch.arange(4))\n",
    "print(pos.shape)\n",
    "print(pos)"
   ]
  },
  {
   "cell_type": "code",
   "execution_count": 25,
   "id": "c7a46b03",
   "metadata": {},
   "outputs": [
    {
     "name": "stdout",
     "output_type": "stream",
     "text": [
      "torch.Size([8, 4, 768])\n",
      "tensor([[[-0.0725,  1.7926,  2.1710,  ...,  0.6457,  1.1043, -1.2078],\n",
      "         [ 2.2568,  0.7519, -0.8106,  ..., -3.7642, -0.4602,  2.6354],\n",
      "         [-4.1703, -1.0925,  1.3008,  ...,  1.0022, -1.8426,  0.2147],\n",
      "         [-0.4530,  0.3145,  3.0678,  ...,  0.2089, -1.5309, -2.3279]],\n",
      "\n",
      "        [[ 0.0811,  1.3332,  0.5077,  ...,  1.8239,  1.4285, -1.1819],\n",
      "         [ 0.8817,  0.2406,  2.1487,  ..., -1.4660,  0.4997,  0.5951],\n",
      "         [-2.2158,  0.4552, -0.3413,  ...,  2.3552, -0.4816,  2.0598],\n",
      "         [-0.1213, -0.4268,  2.0248,  ..., -1.3299, -1.4588,  0.3232]],\n",
      "\n",
      "        [[-0.0577,  2.1267,  2.3452,  ..., -0.5126,  0.9244,  1.9218],\n",
      "         [-0.8555,  2.0447,  0.2403,  ..., -1.0716, -1.6743, -0.5790],\n",
      "         [-2.5309,  2.0089, -0.3707,  ..., -1.0829, -1.2492,  0.9279],\n",
      "         [-1.2705,  2.3691,  1.6905,  ...,  0.6511, -0.5430, -2.0906]],\n",
      "\n",
      "        ...,\n",
      "\n",
      "        [[ 1.3923,  1.6801,  0.4625,  ...,  1.6814,  2.2632,  0.0963],\n",
      "         [ 0.1182,  1.2817,  0.9187,  ..., -1.5781,  1.1030, -0.7832],\n",
      "         [-0.7620,  0.8706, -1.4189,  ...,  0.6106,  0.3725,  1.6953],\n",
      "         [-0.5411,  0.5395,  1.1235,  ..., -2.4797,  1.5431, -1.0680]],\n",
      "\n",
      "        [[ 1.9054,  0.8389,  1.2379,  ..., -0.9373,  2.9397, -0.7883],\n",
      "         [ 0.2237,  3.6306,  0.9765,  ..., -2.0813, -0.2421, -0.2131],\n",
      "         [-2.5095,  1.1911,  0.6732,  ...,  1.9306, -1.0233,  0.5047],\n",
      "         [ 0.0854,  0.7778, -0.2547,  ..., -0.7151, -2.4615,  0.0402]],\n",
      "\n",
      "        [[-0.1032,  3.2592,  2.3363,  ...,  1.9209,  0.2655, -1.5098],\n",
      "         [ 0.0571,  0.8526,  0.2336,  ..., -2.2503,  1.2296, -1.3102],\n",
      "         [-0.5390,  0.8697, -0.2123,  ...,  1.2020, -0.9715,  2.0958],\n",
      "         [ 1.5321,  0.4126,  1.8895,  ..., -0.7853, -0.6979, -1.0683]]],\n",
      "       grad_fn=<AddBackward0>)\n"
     ]
    }
   ],
   "source": [
    "input_embed = embeddings + pos\n",
    "print(input_embed.shape)\n",
    "print(input_embed)"
   ]
  }
 ],
 "metadata": {
  "kernelspec": {
   "display_name": "Python 3",
   "language": "python",
   "name": "python3"
  },
  "language_info": {
   "codemirror_mode": {
    "name": "ipython",
    "version": 3
   },
   "file_extension": ".py",
   "mimetype": "text/x-python",
   "name": "python",
   "nbconvert_exporter": "python",
   "pygments_lexer": "ipython3",
   "version": "3.12.2"
  }
 },
 "nbformat": 4,
 "nbformat_minor": 5
}
